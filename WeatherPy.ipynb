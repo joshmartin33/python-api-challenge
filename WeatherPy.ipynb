{
 "cells": [
  {
   "cell_type": "markdown",
   "metadata": {},
   "source": [
    "# WeatherPy\n",
    "----\n",
    "\n",
    "#### Note\n",
    "* Instructions have been included for each segment. You do not have to follow them exactly, but they are included to help you think through the steps."
   ]
  },
  {
   "cell_type": "code",
   "execution_count": 1,
   "metadata": {
    "scrolled": true
   },
   "outputs": [],
   "source": [
    "# Dependencies and Setup\n",
    "import matplotlib.pyplot as plt\n",
    "import pandas as pd\n",
    "import numpy as np\n",
    "import requests\n",
    "import time\n",
    "import json\n",
    "from datetime import date\n",
    "from scipy.stats import linregress\n",
    "\n",
    "# Import API key\n",
    "from api_keys import weather_api_key\n",
    "\n",
    "# Incorporated citipy to determine city based on latitude and longitude\n",
    "from citipy import citipy\n",
    "\n",
    "# Output File (CSV)\n",
    "output_data_file = \"output_data_file/cities.csv\"\n",
    "\n",
    "# Range of latitudes and longitudes\n",
    "lat_range = (-90, 90)\n",
    "lng_range = (-180, 180)"
   ]
  },
  {
   "cell_type": "markdown",
   "metadata": {},
   "source": [
    "## Generate Cities List"
   ]
  },
  {
   "cell_type": "code",
   "execution_count": 2,
   "metadata": {},
   "outputs": [
    {
     "data": {
      "text/plain": [
       "621"
      ]
     },
     "execution_count": 2,
     "metadata": {},
     "output_type": "execute_result"
    }
   ],
   "source": [
    "# List for holding lat_lngs and cities\n",
    "lat_lngs = []\n",
    "cities = []\n",
    "\n",
    "# Create a set of random lat and lng combinations\n",
    "lats = np.random.uniform(lat_range[0], lat_range[1], size=1500)\n",
    "lngs = np.random.uniform(lng_range[0], lng_range[1], size=1500)\n",
    "\n",
    "lat_lngs = zip(lats, lngs)\n",
    "\n",
    "# Identify nearest city for each lat, lng combination\n",
    "for lat_lng in lat_lngs:\n",
    "    city = citipy.nearest_city(lat_lng[0], lat_lng[1]).city_name\n",
    "    \n",
    "    # If the city is unique, then add it to a our cities list\n",
    "    if city not in cities:\n",
    "        cities.append(city)\n",
    "\n",
    "# Print the city count to confirm sufficient count\n",
    "len(cities)"
   ]
  },
  {
   "cell_type": "code",
   "execution_count": 3,
   "metadata": {},
   "outputs": [
    {
     "data": {
      "text/html": [
       "<div>\n",
       "<style scoped>\n",
       "    .dataframe tbody tr th:only-of-type {\n",
       "        vertical-align: middle;\n",
       "    }\n",
       "\n",
       "    .dataframe tbody tr th {\n",
       "        vertical-align: top;\n",
       "    }\n",
       "\n",
       "    .dataframe thead th {\n",
       "        text-align: right;\n",
       "    }\n",
       "</style>\n",
       "<table border=\"1\" class=\"dataframe\">\n",
       "  <thead>\n",
       "    <tr style=\"text-align: right;\">\n",
       "      <th></th>\n",
       "      <th>City</th>\n",
       "    </tr>\n",
       "  </thead>\n",
       "  <tbody>\n",
       "    <tr>\n",
       "      <th>0</th>\n",
       "      <td>hilo</td>\n",
       "    </tr>\n",
       "    <tr>\n",
       "      <th>1</th>\n",
       "      <td>mitsamiouli</td>\n",
       "    </tr>\n",
       "    <tr>\n",
       "      <th>2</th>\n",
       "      <td>fayaoue</td>\n",
       "    </tr>\n",
       "    <tr>\n",
       "      <th>3</th>\n",
       "      <td>east london</td>\n",
       "    </tr>\n",
       "    <tr>\n",
       "      <th>4</th>\n",
       "      <td>mataura</td>\n",
       "    </tr>\n",
       "  </tbody>\n",
       "</table>\n",
       "</div>"
      ],
      "text/plain": [
       "          City\n",
       "0         hilo\n",
       "1  mitsamiouli\n",
       "2      fayaoue\n",
       "3  east london\n",
       "4      mataura"
      ]
     },
     "execution_count": 3,
     "metadata": {},
     "output_type": "execute_result"
    }
   ],
   "source": [
    "# convert cities list into a pandas dataframe\n",
    "cities_df = pd.DataFrame(cities)\n",
    "\n",
    "# Rename column\n",
    "cities_df = cities_df.rename(columns={0: \"City\"})\n",
    "cities_df.head()"
   ]
  },
  {
   "cell_type": "markdown",
   "metadata": {},
   "source": [
    "### Perform API Calls\n",
    "* Perform a weather check on each city using a series of successive API calls.\n",
    "* Include a print log of each city as it's being processed (with the city number and city name).\n"
   ]
  },
  {
   "cell_type": "code",
   "execution_count": 4,
   "metadata": {},
   "outputs": [
    {
     "name": "stdout",
     "output_type": "stream",
     "text": [
      "Beginning Data Retrieval\n",
      "------------------------------\n",
      "Processing Record 1 of set 1 | hilo\n",
      "Processing Record 2 of set 1 | mitsamiouli\n",
      "Processing Record 3 of set 1 | fayaoue\n",
      "Processing Record 4 of set 1 | east london\n",
      "Processing Record 5 of set 1 | mataura\n",
      "Processing Record 6 of set 1 | kahului\n",
      "Processing Record 7 of set 1 | rikitea\n",
      "Processing Record 8 of set 1 | belyy yar\n",
      "Processing Record 9 of set 1 | goundam\n",
      "Processing Record 10 of set 1 | kapaa\n",
      "Processing Record 11 of set 1 | albany\n",
      "Processing Record 12 of set 1 | tasiilaq\n",
      "Processing Record 13 of set 1 | longyearbyen\n",
      "Processing Record 14 of set 1 | carnarvon\n",
      "Processing Record 15 of set 1 | ponta do sol\n",
      "Processing Record 16 of set 1 | avarua\n",
      "Processing Record 17 of set 1 | zalantun\n",
      "City not found. Skipping....\n",
      "Processing Record 1 of set 2 | port alfred\n",
      "Processing Record 2 of set 2 | sterling\n",
      "Processing Record 3 of set 2 | guerrero negro\n",
      "City not found. Skipping....\n",
      "Processing Record 1 of set 3 | lebu\n",
      "Processing Record 2 of set 3 | kavaratti\n",
      "Processing Record 3 of set 3 | souillac\n",
      "Processing Record 4 of set 3 | dikson\n",
      "Processing Record 5 of set 3 | mexicali\n",
      "Processing Record 6 of set 3 | tucurui\n",
      "Processing Record 7 of set 3 | canavieiras\n",
      "Processing Record 8 of set 3 | praia da vitoria\n",
      "Processing Record 9 of set 3 | saint george\n",
      "Processing Record 10 of set 3 | rawson\n",
      "Processing Record 11 of set 3 | vaini\n",
      "City not found. Skipping....\n",
      "Processing Record 1 of set 4 | vila velha\n",
      "Processing Record 2 of set 4 | gerash\n",
      "Processing Record 3 of set 4 | metro\n",
      "Processing Record 4 of set 4 | alihe\n",
      "Processing Record 5 of set 4 | jalu\n",
      "Processing Record 6 of set 4 | mar del plata\n",
      "Processing Record 7 of set 4 | kaitangata\n",
      "Processing Record 8 of set 4 | qaanaaq\n",
      "Processing Record 9 of set 4 | mahebourg\n",
      "Processing Record 10 of set 4 | hunucma\n",
      "Processing Record 11 of set 4 | arraial do cabo\n",
      "Processing Record 12 of set 4 | ushuaia\n",
      "Processing Record 13 of set 4 | bredasdorp\n",
      "Processing Record 14 of set 4 | vangaindrano\n",
      "Processing Record 15 of set 4 | faya\n",
      "Processing Record 16 of set 4 | busselton\n",
      "Processing Record 17 of set 4 | synya\n",
      "Processing Record 18 of set 4 | yellowknife\n",
      "City not found. Skipping....\n",
      "Processing Record 1 of set 5 | butaritari\n",
      "City not found. Skipping....\n",
      "Processing Record 1 of set 6 | mayo\n",
      "Processing Record 2 of set 6 | new norfolk\n",
      "Processing Record 3 of set 6 | khatanga\n",
      "Processing Record 4 of set 6 | ginda\n",
      "Processing Record 5 of set 6 | port elizabeth\n",
      "Processing Record 6 of set 6 | ribeira grande\n",
      "Processing Record 7 of set 6 | weligama\n",
      "Processing Record 8 of set 6 | magdagachi\n",
      "Processing Record 9 of set 6 | pacific grove\n",
      "Processing Record 10 of set 6 | cape town\n",
      "Processing Record 11 of set 6 | silvassa\n",
      "Processing Record 12 of set 6 | rosario\n",
      "Processing Record 13 of set 6 | lugovoy\n",
      "Processing Record 14 of set 6 | ostrovnoy\n",
      "Processing Record 15 of set 6 | tilichiki\n",
      "Processing Record 16 of set 6 | bukama\n",
      "Processing Record 17 of set 6 | barcelos\n",
      "Processing Record 18 of set 6 | saint-philippe\n",
      "Processing Record 19 of set 6 | linxia\n",
      "Processing Record 20 of set 6 | punta arenas\n",
      "Processing Record 21 of set 6 | kaseda\n",
      "Processing Record 22 of set 6 | vardo\n",
      "Processing Record 23 of set 6 | dingle\n",
      "Processing Record 24 of set 6 | nanortalik\n",
      "Processing Record 25 of set 6 | bluff\n",
      "Processing Record 26 of set 6 | mahibadhoo\n",
      "Processing Record 27 of set 6 | saint-joseph\n",
      "Processing Record 28 of set 6 | papara\n",
      "Processing Record 29 of set 6 | thompson\n",
      "Processing Record 30 of set 6 | hermanus\n",
      "City not found. Skipping....\n",
      "City not found. Skipping....\n",
      "Processing Record 1 of set 8 | along\n",
      "Processing Record 2 of set 8 | port blair\n",
      "Processing Record 3 of set 8 | petauke\n",
      "Processing Record 4 of set 8 | esperance\n",
      "Processing Record 5 of set 8 | olinda\n",
      "Processing Record 6 of set 8 | srednekolymsk\n",
      "Processing Record 7 of set 8 | castro\n",
      "Processing Record 8 of set 8 | kieta\n",
      "Processing Record 9 of set 8 | korla\n",
      "Processing Record 10 of set 8 | vadinsk\n",
      "Processing Record 11 of set 8 | puerto ayora\n",
      "Processing Record 12 of set 8 | ayagoz\n",
      "Processing Record 13 of set 8 | hofn\n",
      "City not found. Skipping....\n",
      "Processing Record 1 of set 9 | riyadh\n",
      "Processing Record 2 of set 9 | gornyye klyuchi\n",
      "Processing Record 3 of set 9 | almaznyy\n",
      "Processing Record 4 of set 9 | isangel\n",
      "Processing Record 5 of set 9 | saskylakh\n",
      "Processing Record 6 of set 9 | bengbu\n",
      "Processing Record 7 of set 9 | viedma\n",
      "Processing Record 8 of set 9 | coquimbo\n",
      "Processing Record 9 of set 9 | kyle\n",
      "Processing Record 10 of set 9 | calabozo\n",
      "Processing Record 11 of set 9 | port hardy\n",
      "Processing Record 12 of set 9 | vestmannaeyjar\n",
      "Processing Record 13 of set 9 | pisco\n",
      "Processing Record 14 of set 9 | xingtai\n",
      "Processing Record 15 of set 9 | hobart\n",
      "Processing Record 16 of set 9 | port lincoln\n",
      "City not found. Skipping....\n",
      "Processing Record 1 of set 10 | torbay\n",
      "Processing Record 2 of set 10 | hamilton\n",
      "Processing Record 3 of set 10 | moose factory\n",
      "Processing Record 4 of set 10 | ilulissat\n",
      "Processing Record 5 of set 10 | port huron\n",
      "Processing Record 6 of set 10 | voznesenye\n",
      "Processing Record 7 of set 10 | khorinsk\n",
      "Processing Record 8 of set 10 | namatanai\n",
      "Processing Record 9 of set 10 | xihe\n",
      "Processing Record 10 of set 10 | hearst\n",
      "City not found. Skipping....\n",
      "Processing Record 1 of set 11 | hasaki\n",
      "Processing Record 2 of set 11 | butembo\n",
      "Processing Record 3 of set 11 | tuktoyaktuk\n",
      "Processing Record 4 of set 11 | erdenet\n",
      "Processing Record 5 of set 11 | sakiai\n",
      "Processing Record 6 of set 11 | talara\n",
      "Processing Record 7 of set 11 | charleston\n",
      "Processing Record 8 of set 11 | japura\n",
      "City not found. Skipping....\n",
      "City not found. Skipping....\n",
      "Processing Record 1 of set 13 | ulaangom\n",
      "Processing Record 2 of set 13 | thiruvananthapuram\n",
      "Processing Record 3 of set 13 | awbari\n",
      "Processing Record 4 of set 13 | abha\n",
      "Processing Record 5 of set 13 | never\n",
      "Processing Record 6 of set 13 | kabwe\n",
      "City not found. Skipping....\n",
      "Processing Record 1 of set 14 | clyde river\n",
      "Processing Record 2 of set 14 | husavik\n",
      "Processing Record 3 of set 14 | yiyang\n",
      "Processing Record 4 of set 14 | bengkulu\n",
      "Processing Record 5 of set 14 | canakkale\n",
      "Processing Record 6 of set 14 | grand gaube\n",
      "Processing Record 7 of set 14 | itarema\n",
      "Processing Record 8 of set 14 | ahipara\n",
      "Processing Record 9 of set 14 | lasa\n",
      "Processing Record 10 of set 14 | saint anthony\n",
      "Processing Record 11 of set 14 | chokurdakh\n",
      "Processing Record 12 of set 14 | san ignacio\n",
      "Processing Record 13 of set 14 | drawsko pomorskie\n",
      "Processing Record 14 of set 14 | kutum\n",
      "Processing Record 15 of set 14 | cidreira\n",
      "Processing Record 16 of set 14 | tefe\n",
      "Processing Record 17 of set 14 | polyarnyy\n",
      "Processing Record 18 of set 14 | tulum\n",
      "Processing Record 19 of set 14 | sitka\n",
      "Processing Record 20 of set 14 | keetmanshoop\n",
      "Processing Record 21 of set 14 | lavrentiya\n",
      "City not found. Skipping....\n",
      "Processing Record 1 of set 15 | upernavik\n",
      "Processing Record 2 of set 15 | fuerte olimpo\n",
      "Processing Record 3 of set 15 | berlevag\n",
      "Processing Record 4 of set 15 | prince rupert\n",
      "Processing Record 5 of set 15 | walcz\n",
      "Processing Record 6 of set 15 | outjo\n",
      "Processing Record 7 of set 15 | kodiak\n",
      "Processing Record 8 of set 15 | nijar\n",
      "Processing Record 9 of set 15 | vanavara\n",
      "City not found. Skipping....\n",
      "Processing Record 1 of set 16 | naze\n",
      "Processing Record 2 of set 16 | jacksonville\n",
      "Processing Record 3 of set 16 | kathu\n",
      "Processing Record 4 of set 16 | abu kamal\n",
      "Processing Record 5 of set 16 | barrow\n",
      "City not found. Skipping....\n",
      "Processing Record 1 of set 17 | marrakesh\n",
      "Processing Record 2 of set 17 | mbeya\n",
      "Processing Record 3 of set 17 | camana\n",
      "Processing Record 4 of set 17 | tazovskiy\n",
      "City not found. Skipping....\n",
      "Processing Record 1 of set 18 | sheridan\n",
      "Processing Record 2 of set 18 | seoul\n",
      "Processing Record 3 of set 18 | grindavik\n",
      "Processing Record 4 of set 18 | mackay\n",
      "Processing Record 5 of set 18 | sao joao da barra\n",
      "Processing Record 6 of set 18 | jertih\n",
      "Processing Record 7 of set 18 | muros\n",
      "Processing Record 8 of set 18 | uglezavodsk\n",
      "Processing Record 9 of set 18 | russell\n",
      "City not found. Skipping....\n",
      "Processing Record 1 of set 19 | rapid valley\n",
      "Processing Record 2 of set 19 | bakchar\n",
      "Processing Record 3 of set 19 | le vauclin\n",
      "Processing Record 4 of set 19 | cabo san lucas\n",
      "Processing Record 5 of set 19 | atuona\n"
     ]
    },
    {
     "name": "stdout",
     "output_type": "stream",
     "text": [
      "Processing Record 6 of set 19 | ngunguru\n",
      "Processing Record 7 of set 19 | yumen\n",
      "Processing Record 8 of set 19 | morong\n",
      "Processing Record 9 of set 19 | lianran\n",
      "Processing Record 10 of set 19 | fairbanks\n",
      "Processing Record 11 of set 19 | tabou\n",
      "City not found. Skipping....\n",
      "Processing Record 1 of set 20 | talnakh\n",
      "Processing Record 2 of set 20 | raudeberg\n",
      "Processing Record 3 of set 20 | stromness\n",
      "Processing Record 4 of set 20 | masallatah\n",
      "Processing Record 5 of set 20 | bethel\n",
      "Processing Record 6 of set 20 | airai\n",
      "City not found. Skipping....\n",
      "City not found. Skipping....\n",
      "Processing Record 1 of set 22 | praia\n",
      "City not found. Skipping....\n",
      "Processing Record 1 of set 23 | igunga\n",
      "City not found. Skipping....\n",
      "Processing Record 1 of set 24 | fortuna\n",
      "Processing Record 2 of set 24 | kavieng\n",
      "Processing Record 3 of set 24 | pangnirtung\n",
      "Processing Record 4 of set 24 | victoria\n",
      "Processing Record 5 of set 24 | georgetown\n",
      "Processing Record 6 of set 24 | jamestown\n",
      "Processing Record 7 of set 24 | ustye\n",
      "Processing Record 8 of set 24 | zhanaozen\n",
      "Processing Record 9 of set 24 | maceio\n",
      "Processing Record 10 of set 24 | maracacume\n",
      "Processing Record 11 of set 24 | mason city\n",
      "Processing Record 12 of set 24 | sobolevo\n",
      "Processing Record 13 of set 24 | mishkino\n",
      "Processing Record 14 of set 24 | bambous virieux\n",
      "Processing Record 15 of set 24 | yulara\n",
      "Processing Record 16 of set 24 | pitelino\n",
      "Processing Record 17 of set 24 | kulhudhuffushi\n",
      "Processing Record 18 of set 24 | iqaluit\n",
      "Processing Record 19 of set 24 | ibipeba\n",
      "Processing Record 20 of set 24 | los llanos de aridane\n",
      "Processing Record 21 of set 24 | aljezur\n",
      "Processing Record 22 of set 24 | cherskiy\n",
      "Processing Record 23 of set 24 | nikolskoye\n",
      "Processing Record 24 of set 24 | sibu\n",
      "Processing Record 25 of set 24 | aklavik\n",
      "Processing Record 26 of set 24 | meulaboh\n",
      "Processing Record 27 of set 24 | nexo\n",
      "Processing Record 28 of set 24 | luderitz\n",
      "Processing Record 29 of set 24 | chuy\n",
      "Processing Record 30 of set 24 | petrovsk\n",
      "Processing Record 31 of set 24 | pietersburg\n",
      "Processing Record 32 of set 24 | marzuq\n",
      "Processing Record 33 of set 24 | krasnoselkup\n",
      "Processing Record 34 of set 24 | nemuro\n",
      "Processing Record 35 of set 24 | sinnamary\n",
      "Processing Record 36 of set 24 | provideniya\n",
      "Processing Record 37 of set 24 | sibolga\n",
      "Processing Record 38 of set 24 | evensk\n",
      "Processing Record 39 of set 24 | garango\n",
      "Processing Record 40 of set 24 | vao\n",
      "Processing Record 41 of set 24 | pevek\n",
      "Processing Record 42 of set 24 | chase\n",
      "Processing Record 43 of set 24 | richards bay\n",
      "Processing Record 44 of set 24 | somerset west\n",
      "Processing Record 45 of set 24 | road town\n",
      "Processing Record 46 of set 24 | virginia beach\n",
      "Processing Record 47 of set 24 | henties bay\n",
      "Processing Record 48 of set 24 | markova\n",
      "City not found. Skipping....\n",
      "Processing Record 1 of set 25 | birjand\n",
      "Processing Record 2 of set 25 | norman wells\n",
      "Processing Record 3 of set 25 | sorland\n",
      "Processing Record 4 of set 25 | sakaiminato\n",
      "Processing Record 5 of set 25 | chicama\n",
      "Processing Record 6 of set 25 | ketchikan\n",
      "Processing Record 7 of set 25 | general roca\n",
      "Processing Record 8 of set 25 | santa cruz de tenerife\n",
      "Processing Record 9 of set 25 | lorengau\n",
      "Processing Record 10 of set 25 | durban\n",
      "Processing Record 11 of set 25 | leninskoye\n",
      "Processing Record 12 of set 25 | ancud\n",
      "Processing Record 13 of set 25 | les cayes\n",
      "Processing Record 14 of set 25 | beni mazar\n",
      "Processing Record 15 of set 25 | cap malheureux\n",
      "Processing Record 16 of set 25 | blagodarnyy\n",
      "Processing Record 17 of set 25 | awjilah\n",
      "Processing Record 18 of set 25 | zhangjiakou\n",
      "Processing Record 19 of set 25 | la ronge\n",
      "Processing Record 20 of set 25 | iracoubo\n",
      "Processing Record 21 of set 25 | wanaka\n",
      "Processing Record 22 of set 25 | alta floresta\n",
      "Processing Record 23 of set 25 | basco\n",
      "Processing Record 24 of set 25 | port-gentil\n",
      "City not found. Skipping....\n",
      "City not found. Skipping....\n",
      "Processing Record 1 of set 27 | marsa matruh\n",
      "Processing Record 2 of set 27 | santa vitoria\n",
      "City not found. Skipping....\n",
      "Processing Record 1 of set 28 | odoyev\n",
      "City not found. Skipping....\n",
      "Processing Record 1 of set 29 | ternate\n",
      "Processing Record 2 of set 29 | sisimiut\n",
      "Processing Record 3 of set 29 | hami\n",
      "Processing Record 4 of set 29 | thinadhoo\n",
      "Processing Record 5 of set 29 | paragominas\n",
      "Processing Record 6 of set 29 | faanui\n",
      "Processing Record 7 of set 29 | ulladulla\n",
      "Processing Record 8 of set 29 | ixtapa\n",
      "Processing Record 9 of set 29 | saint-augustin\n",
      "Processing Record 10 of set 29 | bacolod\n",
      "City not found. Skipping....\n",
      "Processing Record 1 of set 30 | tanabe\n",
      "Processing Record 2 of set 30 | avera\n",
      "Processing Record 3 of set 30 | oussouye\n",
      "Processing Record 4 of set 30 | morehead\n",
      "Processing Record 5 of set 30 | rustenburg\n",
      "Processing Record 6 of set 30 | nhamunda\n",
      "City not found. Skipping....\n",
      "Processing Record 1 of set 31 | mehamn\n",
      "Processing Record 2 of set 31 | eufaula\n",
      "Processing Record 3 of set 31 | corrente\n",
      "Processing Record 4 of set 31 | tulln\n",
      "Processing Record 5 of set 31 | broome\n",
      "Processing Record 6 of set 31 | baykit\n",
      "Processing Record 7 of set 31 | borba\n",
      "Processing Record 8 of set 31 | okha\n",
      "Processing Record 9 of set 31 | raychikhinsk\n",
      "Processing Record 10 of set 31 | quatre cocos\n",
      "City not found. Skipping....\n",
      "Processing Record 1 of set 32 | novyy urengoy\n",
      "Processing Record 2 of set 32 | paamiut\n",
      "Processing Record 3 of set 32 | midland\n",
      "Processing Record 4 of set 32 | sur\n",
      "City not found. Skipping....\n",
      "Processing Record 1 of set 33 | sao jose da coroa grande\n",
      "Processing Record 2 of set 33 | pendra\n",
      "Processing Record 3 of set 33 | comodoro rivadavia\n",
      "Processing Record 4 of set 33 | konskie\n",
      "Processing Record 5 of set 33 | beisfjord\n",
      "Processing Record 6 of set 33 | laguna\n",
      "Processing Record 7 of set 33 | san cristobal\n",
      "Processing Record 8 of set 33 | lagoa\n",
      "Processing Record 9 of set 33 | jawhar\n",
      "Processing Record 10 of set 33 | palora\n",
      "Processing Record 11 of set 33 | zyryanka\n",
      "Processing Record 12 of set 33 | bagdarin\n",
      "Processing Record 13 of set 33 | teluknaga\n",
      "City not found. Skipping....\n",
      "Processing Record 1 of set 34 | baghdad\n",
      "Processing Record 2 of set 34 | oranjestad\n",
      "Processing Record 3 of set 34 | najran\n",
      "Processing Record 4 of set 34 | ust-koksa\n",
      "Processing Record 5 of set 34 | maneromango\n",
      "Processing Record 6 of set 34 | marienburg\n",
      "Processing Record 7 of set 34 | karpathos\n",
      "Processing Record 8 of set 34 | tessalit\n",
      "Processing Record 9 of set 34 | esna\n",
      "Processing Record 10 of set 34 | tirat karmel\n",
      "Processing Record 11 of set 34 | chumikan\n",
      "Processing Record 12 of set 34 | severo-kurilsk\n",
      "Processing Record 13 of set 34 | acapulco\n",
      "Processing Record 14 of set 34 | kisangani\n",
      "Processing Record 15 of set 34 | ixchiguan\n",
      "Processing Record 16 of set 34 | beringovskiy\n",
      "Processing Record 17 of set 34 | ampanihy\n",
      "Processing Record 18 of set 34 | coahuayana\n",
      "Processing Record 19 of set 34 | nanakuli\n",
      "Processing Record 20 of set 34 | louis trichardt\n",
      "Processing Record 21 of set 34 | mutoko\n",
      "Processing Record 22 of set 34 | geraldton\n",
      "Processing Record 23 of set 34 | severodvinsk\n",
      "Processing Record 24 of set 34 | cockburn town\n",
      "Processing Record 25 of set 34 | mnogovershinnyy\n",
      "Processing Record 26 of set 34 | athabasca\n",
      "Processing Record 27 of set 34 | salalah\n",
      "Processing Record 28 of set 34 | bud\n",
      "Processing Record 29 of set 34 | caravelas\n",
      "Processing Record 30 of set 34 | tucupita\n",
      "City not found. Skipping....\n",
      "Processing Record 1 of set 35 | moramanga\n",
      "Processing Record 2 of set 35 | havoysund\n",
      "Processing Record 3 of set 35 | batagay-alyta\n",
      "Processing Record 4 of set 35 | kruisfontein\n",
      "Processing Record 5 of set 35 | narsaq\n",
      "Processing Record 6 of set 35 | pandan niog\n",
      "Processing Record 7 of set 35 | waverly\n",
      "Processing Record 8 of set 35 | bonthe\n",
      "Processing Record 9 of set 35 | tiksi\n",
      "City not found. Skipping....\n",
      "Processing Record 1 of set 36 | bathsheba\n",
      "Processing Record 2 of set 36 | bouca\n",
      "Processing Record 3 of set 36 | dryden\n",
      "Processing Record 4 of set 36 | moranbah\n",
      "Processing Record 5 of set 36 | wanning\n",
      "Processing Record 6 of set 36 | sao filipe\n",
      "City not found. Skipping....\n",
      "City not found. Skipping....\n",
      "Processing Record 1 of set 38 | tuatapere\n",
      "Processing Record 2 of set 38 | rettikhovka\n",
      "Processing Record 3 of set 38 | birao\n",
      "City not found. Skipping....\n",
      "Processing Record 1 of set 39 | joshimath\n",
      "Processing Record 2 of set 39 | jutai\n"
     ]
    },
    {
     "name": "stdout",
     "output_type": "stream",
     "text": [
      "Processing Record 3 of set 39 | jejuri\n",
      "Processing Record 4 of set 39 | puro\n",
      "Processing Record 5 of set 39 | boa vista\n",
      "Processing Record 6 of set 39 | soderhamn\n",
      "City not found. Skipping....\n",
      "Processing Record 1 of set 40 | chingirlau\n",
      "Processing Record 2 of set 40 | alta gracia\n",
      "Processing Record 3 of set 40 | yar-sale\n",
      "Processing Record 4 of set 40 | floro\n",
      "Processing Record 5 of set 40 | mawlaik\n",
      "Processing Record 6 of set 40 | acarau\n",
      "Processing Record 7 of set 40 | nome\n",
      "City not found. Skipping....\n",
      "Processing Record 1 of set 41 | alofi\n",
      "Processing Record 2 of set 41 | santa ana\n",
      "Processing Record 3 of set 41 | gamba\n",
      "Processing Record 4 of set 41 | socorro\n",
      "Processing Record 5 of set 41 | constitucion\n",
      "Processing Record 6 of set 41 | namibe\n",
      "Processing Record 7 of set 41 | manadhoo\n",
      "Processing Record 8 of set 41 | deputatskiy\n",
      "Processing Record 9 of set 41 | inirida\n",
      "Processing Record 10 of set 41 | barra do garcas\n",
      "Processing Record 11 of set 41 | florence\n",
      "Processing Record 12 of set 41 | codrington\n",
      "Processing Record 13 of set 41 | rosa zarate\n",
      "Processing Record 14 of set 41 | umarkot\n",
      "Processing Record 15 of set 41 | raga\n",
      "Processing Record 16 of set 41 | shangrao\n",
      "Processing Record 17 of set 41 | alice springs\n",
      "Processing Record 18 of set 41 | vila do maio\n",
      "Processing Record 19 of set 41 | puerto ayacucho\n",
      "City not found. Skipping....\n",
      "Processing Record 1 of set 42 | tabas\n",
      "City not found. Skipping....\n",
      "City not found. Skipping....\n",
      "Processing Record 1 of set 44 | port hawkesbury\n",
      "Processing Record 2 of set 44 | flin flon\n",
      "Processing Record 3 of set 44 | kodinsk\n",
      "Processing Record 4 of set 44 | usinsk\n",
      "Processing Record 5 of set 44 | atlantic city\n",
      "Processing Record 6 of set 44 | shache\n",
      "Processing Record 7 of set 44 | tarko-sale\n",
      "Processing Record 8 of set 44 | kilindoni\n",
      "Processing Record 9 of set 44 | hithadhoo\n",
      "Processing Record 10 of set 44 | aswan\n",
      "Processing Record 11 of set 44 | atagay\n",
      "City not found. Skipping....\n",
      "City not found. Skipping....\n",
      "Processing Record 1 of set 46 | davila\n",
      "Processing Record 2 of set 46 | derbent\n",
      "Processing Record 3 of set 46 | ekhabi\n",
      "Processing Record 4 of set 46 | stornoway\n",
      "Processing Record 5 of set 46 | salo\n",
      "Processing Record 6 of set 46 | leningradskiy\n",
      "Processing Record 7 of set 46 | roebourne\n",
      "Processing Record 8 of set 46 | ron phibun\n",
      "Processing Record 9 of set 46 | shelburne\n",
      "Processing Record 10 of set 46 | vanimo\n",
      "Processing Record 11 of set 46 | hualmay\n",
      "Processing Record 12 of set 46 | charters towers\n",
      "Processing Record 13 of set 46 | ewa beach\n",
      "Processing Record 14 of set 46 | praya\n",
      "Processing Record 15 of set 46 | ahvaz\n",
      "Processing Record 16 of set 46 | johannesburg\n",
      "Processing Record 17 of set 46 | san jose\n",
      "Processing Record 18 of set 46 | mikhaylovka\n",
      "Processing Record 19 of set 46 | muisne\n",
      "Processing Record 20 of set 46 | banikoara\n",
      "Processing Record 21 of set 46 | katobu\n",
      "Processing Record 22 of set 46 | saldanha\n",
      "Processing Record 23 of set 46 | shenzhen\n",
      "City not found. Skipping....\n",
      "Processing Record 1 of set 47 | takoradi\n",
      "Processing Record 2 of set 47 | paka\n",
      "Processing Record 3 of set 47 | san lawrenz\n",
      "Processing Record 4 of set 47 | rockport\n",
      "Processing Record 5 of set 47 | kaeo\n",
      "Processing Record 6 of set 47 | fenoarivo atsinanana\n",
      "Processing Record 7 of set 47 | kretinga\n",
      "Processing Record 8 of set 47 | mindelo\n",
      "Processing Record 9 of set 47 | san patricio\n",
      "City not found. Skipping....\n",
      "Processing Record 1 of set 48 | atar\n",
      "Processing Record 2 of set 48 | klaksvik\n",
      "Processing Record 3 of set 48 | livingston\n",
      "Processing Record 4 of set 48 | breves\n",
      "City not found. Skipping....\n",
      "Processing Record 1 of set 49 | aksarka\n",
      "Processing Record 2 of set 49 | katsuura\n",
      "Processing Record 3 of set 49 | mani\n",
      "Processing Record 4 of set 49 | destin\n",
      "Processing Record 5 of set 49 | hazorasp\n",
      "Processing Record 6 of set 49 | catuday\n",
      "Processing Record 7 of set 49 | bela\n",
      "Processing Record 8 of set 49 | catumbela\n",
      "Processing Record 9 of set 49 | kalemie\n",
      "Processing Record 10 of set 49 | ust-kan\n",
      "City not found. Skipping....\n",
      "Processing Record 1 of set 50 | axim\n",
      "Processing Record 2 of set 50 | necochea\n",
      "Processing Record 3 of set 50 | moberly\n",
      "Processing Record 4 of set 50 | egvekinot\n",
      "Processing Record 5 of set 50 | todos santos\n",
      "Processing Record 6 of set 50 | tura\n",
      "Processing Record 7 of set 50 | tres picos\n",
      "Processing Record 8 of set 50 | dax\n",
      "Processing Record 9 of set 50 | vera cruz\n",
      "Processing Record 10 of set 50 | taldan\n",
      "Processing Record 11 of set 50 | hay river\n",
      "Processing Record 12 of set 50 | placido de castro\n",
      "Processing Record 13 of set 50 | seddon\n",
      "Processing Record 14 of set 50 | maniitsoq\n",
      "Processing Record 15 of set 50 | pemangkat\n",
      "Processing Record 16 of set 50 | karratha\n",
      "Processing Record 17 of set 50 | dandong\n",
      "Processing Record 18 of set 50 | brattvag\n",
      "Processing Record 19 of set 50 | porrentruy\n",
      "Processing Record 20 of set 50 | sorong\n",
      "Processing Record 21 of set 50 | australind\n",
      "Processing Record 22 of set 50 | tual\n",
      "Processing Record 23 of set 50 | grand-lahou\n",
      "Processing Record 24 of set 50 | lompoc\n",
      "Processing Record 25 of set 50 | locri\n",
      "Processing Record 26 of set 50 | whitehorse\n",
      "Processing Record 27 of set 50 | parauna\n",
      "Processing Record 28 of set 50 | pringsewu\n",
      "Processing Record 29 of set 50 | porto novo\n",
      "Processing Record 30 of set 50 | dzaoudzi\n",
      "Processing Record 31 of set 50 | piacabucu\n",
      "Processing Record 32 of set 50 | savannah bight\n",
      "Processing Record 33 of set 50 | peto\n",
      "City not found. Skipping....\n",
      "Processing Record 1 of set 51 | haines junction\n",
      "Processing Record 2 of set 51 | sinjar\n",
      "Processing Record 3 of set 51 | yangjiang\n",
      "Processing Record 4 of set 51 | bolekhiv\n",
      "Processing Record 5 of set 51 | mount isa\n",
      "Processing Record 6 of set 51 | santa rosa\n",
      "Processing Record 7 of set 51 | akita\n",
      "Processing Record 8 of set 51 | camocim\n",
      "Processing Record 9 of set 51 | le mars\n",
      "Processing Record 10 of set 51 | westport\n",
      "Processing Record 11 of set 51 | banamba\n",
      "Processing Record 12 of set 51 | spencer\n",
      "Processing Record 13 of set 51 | son la\n",
      "Processing Record 14 of set 51 | houma\n",
      "Processing Record 15 of set 51 | kaifeng\n",
      "Processing Record 16 of set 51 | kalmunai\n",
      "Processing Record 17 of set 51 | zhigansk\n",
      "Processing Record 18 of set 51 | beloha\n",
      "Processing Record 19 of set 51 | prieska\n",
      "Processing Record 20 of set 51 | manbij\n",
      "Processing Record 21 of set 51 | nouadhibou\n",
      "Processing Record 22 of set 51 | mabaruma\n",
      "Processing Record 23 of set 51 | pimenta bueno\n",
      "City not found. Skipping....\n",
      "Processing Record 1 of set 52 | omboue\n",
      "Processing Record 2 of set 52 | itaituba\n",
      "Processing Record 3 of set 52 | coxim\n",
      "Processing Record 4 of set 52 | shitanjing\n",
      "Processing Record 5 of set 52 | luanda\n",
      "Processing Record 6 of set 52 | solnechnyy\n",
      "Processing Record 7 of set 52 | sioux lookout\n",
      "Processing Record 8 of set 52 | brattleboro\n",
      "Processing Record 9 of set 52 | oyama\n",
      "Processing Record 10 of set 52 | kabanjahe\n",
      "City not found. Skipping....\n",
      "Processing Record 1 of set 53 | sri aman\n",
      "Processing Record 2 of set 53 | coihaique\n",
      "Processing Record 3 of set 53 | tikrit\n",
      "Processing Record 4 of set 53 | nikolayevka\n",
      "Processing Record 5 of set 53 | xining\n",
      "Processing Record 6 of set 53 | kayanga\n",
      "Processing Record 7 of set 53 | santa isabel do rio negro\n",
      "Processing Record 8 of set 53 | campbeltown\n",
      "Processing Record 9 of set 53 | araquari\n",
      "Processing Record 10 of set 53 | dingzhou\n",
      "Processing Record 11 of set 53 | port macquarie\n",
      "Processing Record 12 of set 53 | ciudad guayana\n",
      "Processing Record 13 of set 53 | porto empedocle\n",
      "City not found. Skipping....\n",
      "Processing Record 1 of set 54 | thai binh\n",
      "City not found. Skipping....\n",
      "Processing Record 1 of set 55 | asyut\n",
      "Processing Record 2 of set 55 | oistins\n",
      "Processing Record 3 of set 55 | povenets\n",
      "Processing Record 4 of set 55 | gat\n",
      "Processing Record 5 of set 55 | dalbandin\n",
      "Processing Record 6 of set 55 | collie\n",
      "Processing Record 7 of set 55 | caucaia\n",
      "Processing Record 8 of set 55 | chapais\n",
      "Processing Record 9 of set 55 | flinders\n",
      "City not found. Skipping....\n",
      "Processing Record 1 of set 56 | cayenne\n",
      "Processing Record 2 of set 56 | pozo colorado\n",
      "Processing Record 3 of set 56 | fuyu\n",
      "Processing Record 4 of set 56 | balkanabat\n",
      "Processing Record 5 of set 56 | oum hadjer\n",
      "Processing Record 6 of set 56 | mount gambier\n",
      "Processing Record 7 of set 56 | liverpool\n",
      "Processing Record 8 of set 56 | key west\n"
     ]
    },
    {
     "name": "stdout",
     "output_type": "stream",
     "text": [
      "Processing Record 9 of set 56 | vagur\n",
      "Processing Record 10 of set 56 | miranda\n",
      "Processing Record 11 of set 56 | pervomayskiy\n",
      "Processing Record 12 of set 56 | portland\n",
      "Processing Record 13 of set 56 | kununurra\n",
      "Processing Record 14 of set 56 | canico\n",
      "Processing Record 15 of set 56 | osmena\n",
      "City not found. Skipping....\n",
      "Processing Record 1 of set 57 | mahanoro\n",
      "Processing Record 2 of set 57 | tautira\n",
      "Processing Record 3 of set 57 | waraseoni\n",
      "Processing Record 4 of set 57 | cozumel\n",
      "Processing Record 5 of set 57 | komsomolskiy\n",
      "----------------------------- Data Retrieval Complete -----------------------------\n"
     ]
    }
   ],
   "source": [
    "# params dictionary to update each iteration\n",
    "params = {\n",
    "    \"appid\": weather_api_key,\n",
    "    \"units\": \"metric\"\n",
    "}\n",
    "\n",
    "# Add columns for lat, lng, Max Temp, Humidity, Cloudiness, Wind Speed, Country, Date\n",
    "cities_df[\"Lat\"] = \"\"\n",
    "cities_df[\"Lng\"] = \"\"\n",
    "cities_df[\"Max Temp\"] = \"\"\n",
    "cities_df[\"Humidity\"] = \"\"\n",
    "cities_df[\"Cloudiness\"] = \"\"\n",
    "cities_df[\"Wind Speed\"] = \"\"\n",
    "cities_df[\"Country\"] = \"\"\n",
    "cities_df[\"Date\"] = \"\"\n",
    "\n",
    "# counters to keep track of record number per set\n",
    "record_no = 1\n",
    "set_no = 1\n",
    "\n",
    "\n",
    "print(\"Beginning Data Retrieval\")\n",
    "print(\"------------------------------\")\n",
    "\n",
    "\n",
    "# Use the city name to identify lat, lng, Max Temp, Humidity, Cloudiness, Wind Speed, Country, Date\n",
    "for index, row in cities_df.iterrows():\n",
    "    \n",
    "    # get city from dataframe\n",
    "    city = row[\"City\"]\n",
    "\n",
    "    # change location each iteration while leaving original params in place\n",
    "    params[\"q\"] = f\"{city}\"\n",
    "\n",
    "    # Use the units term to return metric data for each city\n",
    "    base_url = \"https://api.openweathermap.org/data/2.5/weather?\"\n",
    "\n",
    "    # make request and convert to json\n",
    "    city_detail = requests.get(base_url, params=params).json()\n",
    "\n",
    "    # Since some data may be missing we incorporate a try-except to skip any that are missing a data point.\n",
    "    try:\n",
    "        \n",
    "        # Adding collected data to cities dataframe\n",
    "        cities_df.loc[index, \"Lat\"] = city_detail['coord']['lat']\n",
    "        cities_df.loc[index, \"Lng\"] = city_detail[\"coord\"][\"lon\"]\n",
    "        cities_df.loc[index, \"Max Temp\"] = city_detail[\"main\"][\"temp_max\"]\n",
    "        cities_df.loc[index, \"Humidity\"] = city_detail[\"main\"][\"humidity\"]\n",
    "        cities_df.loc[index, \"Cloudiness\"] = city_detail[\"clouds\"][\"all\"]\n",
    "        cities_df.loc[index, \"Wind Speed\"] = city_detail[\"wind\"][\"speed\"]\n",
    "        cities_df.loc[index, \"Country\"] = city_detail[\"sys\"][\"country\"]\n",
    "        cities_df.loc[index, \"Date\"] = city_detail[\"dt\"]\n",
    "        \n",
    "        # Print Record\n",
    "        print(f\"Processing Record {record_no} of set {set_no} | {city}\")\n",
    "        \n",
    "        # Add to record counter\n",
    "        record_no += 1\n",
    "    \n",
    "    # Add except \n",
    "    except (KeyError, IndexError):\n",
    "        print(\"City not found. Skipping....\")\n",
    "        \n",
    "        # Drop city if not found\n",
    "        cities_df.drop(index, inplace=True)\n",
    "        \n",
    "        # Reset record counter\n",
    "        record_no = 1\n",
    "        \n",
    "        # Add to set counter\n",
    "        set_no += 1\n",
    "print(\"----------------------------- Data Retrieval Complete -----------------------------\")\n",
    "\n",
    "# Reset index\n",
    "cities_df.reset_index(drop=True, inplace=True)"
   ]
  },
  {
   "cell_type": "markdown",
   "metadata": {},
   "source": [
    "### Convert Raw Data to DataFrame\n",
    "* Export the city data into a .csv.\n",
    "* Display the DataFrame"
   ]
  },
  {
   "cell_type": "code",
   "execution_count": 5,
   "metadata": {},
   "outputs": [
    {
     "data": {
      "text/html": [
       "<div>\n",
       "<style scoped>\n",
       "    .dataframe tbody tr th:only-of-type {\n",
       "        vertical-align: middle;\n",
       "    }\n",
       "\n",
       "    .dataframe tbody tr th {\n",
       "        vertical-align: top;\n",
       "    }\n",
       "\n",
       "    .dataframe thead th {\n",
       "        text-align: right;\n",
       "    }\n",
       "</style>\n",
       "<table border=\"1\" class=\"dataframe\">\n",
       "  <thead>\n",
       "    <tr style=\"text-align: right;\">\n",
       "      <th></th>\n",
       "      <th>City</th>\n",
       "      <th>Lat</th>\n",
       "      <th>Lng</th>\n",
       "      <th>Max Temp</th>\n",
       "      <th>Humidity</th>\n",
       "      <th>Cloudiness</th>\n",
       "      <th>Wind Speed</th>\n",
       "      <th>Country</th>\n",
       "      <th>Date</th>\n",
       "    </tr>\n",
       "  </thead>\n",
       "  <tbody>\n",
       "    <tr>\n",
       "      <th>0</th>\n",
       "      <td>hilo</td>\n",
       "      <td>19.7297</td>\n",
       "      <td>-155.09</td>\n",
       "      <td>31.27</td>\n",
       "      <td>71</td>\n",
       "      <td>0</td>\n",
       "      <td>5.14</td>\n",
       "      <td>US</td>\n",
       "      <td>1662853254</td>\n",
       "    </tr>\n",
       "    <tr>\n",
       "      <th>1</th>\n",
       "      <td>mitsamiouli</td>\n",
       "      <td>-11.3847</td>\n",
       "      <td>43.2844</td>\n",
       "      <td>23.87</td>\n",
       "      <td>71</td>\n",
       "      <td>10</td>\n",
       "      <td>2.72</td>\n",
       "      <td>KM</td>\n",
       "      <td>1662853255</td>\n",
       "    </tr>\n",
       "    <tr>\n",
       "      <th>2</th>\n",
       "      <td>fayaoue</td>\n",
       "      <td>-20.65</td>\n",
       "      <td>166.533</td>\n",
       "      <td>24.59</td>\n",
       "      <td>81</td>\n",
       "      <td>2</td>\n",
       "      <td>2.58</td>\n",
       "      <td>NC</td>\n",
       "      <td>1662853256</td>\n",
       "    </tr>\n",
       "    <tr>\n",
       "      <th>3</th>\n",
       "      <td>east london</td>\n",
       "      <td>-33.0153</td>\n",
       "      <td>27.9116</td>\n",
       "      <td>18.7</td>\n",
       "      <td>85</td>\n",
       "      <td>97</td>\n",
       "      <td>3.36</td>\n",
       "      <td>ZA</td>\n",
       "      <td>1662853256</td>\n",
       "    </tr>\n",
       "    <tr>\n",
       "      <th>4</th>\n",
       "      <td>mataura</td>\n",
       "      <td>-46.1927</td>\n",
       "      <td>168.864</td>\n",
       "      <td>12.77</td>\n",
       "      <td>50</td>\n",
       "      <td>3</td>\n",
       "      <td>1.64</td>\n",
       "      <td>NZ</td>\n",
       "      <td>1662853257</td>\n",
       "    </tr>\n",
       "  </tbody>\n",
       "</table>\n",
       "</div>"
      ],
      "text/plain": [
       "          City      Lat      Lng Max Temp Humidity Cloudiness Wind Speed  \\\n",
       "0         hilo  19.7297  -155.09    31.27       71          0       5.14   \n",
       "1  mitsamiouli -11.3847  43.2844    23.87       71         10       2.72   \n",
       "2      fayaoue   -20.65  166.533    24.59       81          2       2.58   \n",
       "3  east london -33.0153  27.9116     18.7       85         97       3.36   \n",
       "4      mataura -46.1927  168.864    12.77       50          3       1.64   \n",
       "\n",
       "  Country        Date  \n",
       "0      US  1662853254  \n",
       "1      KM  1662853255  \n",
       "2      NC  1662853256  \n",
       "3      ZA  1662853256  \n",
       "4      NZ  1662853257  "
      ]
     },
     "execution_count": 5,
     "metadata": {},
     "output_type": "execute_result"
    }
   ],
   "source": [
    "# Export the city data into a .csv.\n",
    "cities_df.to_csv(output_data_file)  \n",
    "\n",
    "# Display the DataFrame\n",
    "cities_df.head()"
   ]
  },
  {
   "cell_type": "code",
   "execution_count": 6,
   "metadata": {},
   "outputs": [
    {
     "data": {
      "text/html": [
       "<div>\n",
       "<style scoped>\n",
       "    .dataframe tbody tr th:only-of-type {\n",
       "        vertical-align: middle;\n",
       "    }\n",
       "\n",
       "    .dataframe tbody tr th {\n",
       "        vertical-align: top;\n",
       "    }\n",
       "\n",
       "    .dataframe thead th {\n",
       "        text-align: right;\n",
       "    }\n",
       "</style>\n",
       "<table border=\"1\" class=\"dataframe\">\n",
       "  <thead>\n",
       "    <tr style=\"text-align: right;\">\n",
       "      <th></th>\n",
       "      <th>Lat</th>\n",
       "      <th>Lng</th>\n",
       "      <th>Max Temp</th>\n",
       "      <th>Humidity</th>\n",
       "      <th>Cloudiness</th>\n",
       "      <th>Wind Speed</th>\n",
       "      <th>Date</th>\n",
       "    </tr>\n",
       "  </thead>\n",
       "  <tbody>\n",
       "    <tr>\n",
       "      <th>count</th>\n",
       "      <td>565.000000</td>\n",
       "      <td>565.000000</td>\n",
       "      <td>565.000000</td>\n",
       "      <td>565.000000</td>\n",
       "      <td>565.000000</td>\n",
       "      <td>565.000000</td>\n",
       "      <td>5.650000e+02</td>\n",
       "    </tr>\n",
       "    <tr>\n",
       "      <th>mean</th>\n",
       "      <td>20.158699</td>\n",
       "      <td>15.473798</td>\n",
       "      <td>19.444655</td>\n",
       "      <td>71.023009</td>\n",
       "      <td>49.853097</td>\n",
       "      <td>3.254442</td>\n",
       "      <td>1.662853e+09</td>\n",
       "    </tr>\n",
       "    <tr>\n",
       "      <th>std</th>\n",
       "      <td>32.530402</td>\n",
       "      <td>88.119966</td>\n",
       "      <td>8.037267</td>\n",
       "      <td>21.047258</td>\n",
       "      <td>39.978736</td>\n",
       "      <td>2.298011</td>\n",
       "      <td>1.320846e+02</td>\n",
       "    </tr>\n",
       "    <tr>\n",
       "      <th>min</th>\n",
       "      <td>-54.800000</td>\n",
       "      <td>-179.166700</td>\n",
       "      <td>-0.090000</td>\n",
       "      <td>12.000000</td>\n",
       "      <td>0.000000</td>\n",
       "      <td>0.000000</td>\n",
       "      <td>1.662853e+09</td>\n",
       "    </tr>\n",
       "    <tr>\n",
       "      <th>25%</th>\n",
       "      <td>-4.387800</td>\n",
       "      <td>-61.193600</td>\n",
       "      <td>12.810000</td>\n",
       "      <td>60.000000</td>\n",
       "      <td>5.000000</td>\n",
       "      <td>1.570000</td>\n",
       "      <td>1.662853e+09</td>\n",
       "    </tr>\n",
       "    <tr>\n",
       "      <th>50%</th>\n",
       "      <td>22.566700</td>\n",
       "      <td>21.286900</td>\n",
       "      <td>21.510000</td>\n",
       "      <td>77.000000</td>\n",
       "      <td>49.000000</td>\n",
       "      <td>2.680000</td>\n",
       "      <td>1.662853e+09</td>\n",
       "    </tr>\n",
       "    <tr>\n",
       "      <th>75%</th>\n",
       "      <td>47.415300</td>\n",
       "      <td>93.450000</td>\n",
       "      <td>26.020000</td>\n",
       "      <td>87.000000</td>\n",
       "      <td>95.000000</td>\n",
       "      <td>4.360000</td>\n",
       "      <td>1.662854e+09</td>\n",
       "    </tr>\n",
       "    <tr>\n",
       "      <th>max</th>\n",
       "      <td>78.218600</td>\n",
       "      <td>179.316700</td>\n",
       "      <td>36.380000</td>\n",
       "      <td>100.000000</td>\n",
       "      <td>100.000000</td>\n",
       "      <td>15.650000</td>\n",
       "      <td>1.662854e+09</td>\n",
       "    </tr>\n",
       "  </tbody>\n",
       "</table>\n",
       "</div>"
      ],
      "text/plain": [
       "              Lat         Lng    Max Temp    Humidity  Cloudiness  Wind Speed  \\\n",
       "count  565.000000  565.000000  565.000000  565.000000  565.000000  565.000000   \n",
       "mean    20.158699   15.473798   19.444655   71.023009   49.853097    3.254442   \n",
       "std     32.530402   88.119966    8.037267   21.047258   39.978736    2.298011   \n",
       "min    -54.800000 -179.166700   -0.090000   12.000000    0.000000    0.000000   \n",
       "25%     -4.387800  -61.193600   12.810000   60.000000    5.000000    1.570000   \n",
       "50%     22.566700   21.286900   21.510000   77.000000   49.000000    2.680000   \n",
       "75%     47.415300   93.450000   26.020000   87.000000   95.000000    4.360000   \n",
       "max     78.218600  179.316700   36.380000  100.000000  100.000000   15.650000   \n",
       "\n",
       "               Date  \n",
       "count  5.650000e+02  \n",
       "mean   1.662853e+09  \n",
       "std    1.320846e+02  \n",
       "min    1.662853e+09  \n",
       "25%    1.662853e+09  \n",
       "50%    1.662853e+09  \n",
       "75%    1.662854e+09  \n",
       "max    1.662854e+09  "
      ]
     },
     "execution_count": 6,
     "metadata": {},
     "output_type": "execute_result"
    }
   ],
   "source": [
    "# Convert columns to float or int types\n",
    "cities_df[cities_df.columns[1:4]] = cities_df.iloc[:, 1:4].astype('float64')\n",
    "cities_df[cities_df.columns[4:6]] = cities_df.iloc[:, 4:6].astype('int64')\n",
    "cities_df[cities_df.columns[6:7]] = cities_df.iloc[:, 6:7].astype('float64')\n",
    "cities_df[cities_df.columns[8:9]] = cities_df.iloc[:, 8:9].astype('int64')\n",
    "\n",
    "# Display basic overview of the data\n",
    "cities_df.describe()"
   ]
  },
  {
   "cell_type": "markdown",
   "metadata": {},
   "source": [
    "## Inspect the data and remove the cities where the humidity > 100%.\n",
    "----\n",
    "Skip this step if there are no cities that have humidity > 100%. "
   ]
  },
  {
   "cell_type": "code",
   "execution_count": 7,
   "metadata": {},
   "outputs": [
    {
     "name": "stdout",
     "output_type": "stream",
     "text": [
      "[]\n"
     ]
    }
   ],
   "source": [
    "#  Get the indices of cities that have humidity over 100%.\n",
    "over_100 = cities_df.index[cities_df[\"Humidity\"] > 100].tolist()\n",
    "print(over_100)"
   ]
  },
  {
   "cell_type": "code",
   "execution_count": 8,
   "metadata": {},
   "outputs": [
    {
     "data": {
      "text/html": [
       "<div>\n",
       "<style scoped>\n",
       "    .dataframe tbody tr th:only-of-type {\n",
       "        vertical-align: middle;\n",
       "    }\n",
       "\n",
       "    .dataframe tbody tr th {\n",
       "        vertical-align: top;\n",
       "    }\n",
       "\n",
       "    .dataframe thead th {\n",
       "        text-align: right;\n",
       "    }\n",
       "</style>\n",
       "<table border=\"1\" class=\"dataframe\">\n",
       "  <thead>\n",
       "    <tr style=\"text-align: right;\">\n",
       "      <th></th>\n",
       "      <th>City</th>\n",
       "      <th>Lat</th>\n",
       "      <th>Lng</th>\n",
       "      <th>Max Temp</th>\n",
       "      <th>Humidity</th>\n",
       "      <th>Cloudiness</th>\n",
       "      <th>Wind Speed</th>\n",
       "      <th>Country</th>\n",
       "      <th>Date</th>\n",
       "    </tr>\n",
       "  </thead>\n",
       "  <tbody>\n",
       "    <tr>\n",
       "      <th>0</th>\n",
       "      <td>hilo</td>\n",
       "      <td>19.7297</td>\n",
       "      <td>-155.0900</td>\n",
       "      <td>31.27</td>\n",
       "      <td>71</td>\n",
       "      <td>0</td>\n",
       "      <td>5.14</td>\n",
       "      <td>US</td>\n",
       "      <td>1662853254</td>\n",
       "    </tr>\n",
       "    <tr>\n",
       "      <th>1</th>\n",
       "      <td>mitsamiouli</td>\n",
       "      <td>-11.3847</td>\n",
       "      <td>43.2844</td>\n",
       "      <td>23.87</td>\n",
       "      <td>71</td>\n",
       "      <td>10</td>\n",
       "      <td>2.72</td>\n",
       "      <td>KM</td>\n",
       "      <td>1662853255</td>\n",
       "    </tr>\n",
       "    <tr>\n",
       "      <th>2</th>\n",
       "      <td>fayaoue</td>\n",
       "      <td>-20.6500</td>\n",
       "      <td>166.5333</td>\n",
       "      <td>24.59</td>\n",
       "      <td>81</td>\n",
       "      <td>2</td>\n",
       "      <td>2.58</td>\n",
       "      <td>NC</td>\n",
       "      <td>1662853256</td>\n",
       "    </tr>\n",
       "    <tr>\n",
       "      <th>3</th>\n",
       "      <td>east london</td>\n",
       "      <td>-33.0153</td>\n",
       "      <td>27.9116</td>\n",
       "      <td>18.70</td>\n",
       "      <td>85</td>\n",
       "      <td>97</td>\n",
       "      <td>3.36</td>\n",
       "      <td>ZA</td>\n",
       "      <td>1662853256</td>\n",
       "    </tr>\n",
       "    <tr>\n",
       "      <th>4</th>\n",
       "      <td>mataura</td>\n",
       "      <td>-46.1927</td>\n",
       "      <td>168.8643</td>\n",
       "      <td>12.77</td>\n",
       "      <td>50</td>\n",
       "      <td>3</td>\n",
       "      <td>1.64</td>\n",
       "      <td>NZ</td>\n",
       "      <td>1662853257</td>\n",
       "    </tr>\n",
       "  </tbody>\n",
       "</table>\n",
       "</div>"
      ],
      "text/plain": [
       "          City      Lat       Lng  Max Temp  Humidity  Cloudiness  Wind Speed  \\\n",
       "0         hilo  19.7297 -155.0900     31.27        71           0        5.14   \n",
       "1  mitsamiouli -11.3847   43.2844     23.87        71          10        2.72   \n",
       "2      fayaoue -20.6500  166.5333     24.59        81           2        2.58   \n",
       "3  east london -33.0153   27.9116     18.70        85          97        3.36   \n",
       "4      mataura -46.1927  168.8643     12.77        50           3        1.64   \n",
       "\n",
       "  Country        Date  \n",
       "0      US  1662853254  \n",
       "1      KM  1662853255  \n",
       "2      NC  1662853256  \n",
       "3      ZA  1662853256  \n",
       "4      NZ  1662853257  "
      ]
     },
     "execution_count": 8,
     "metadata": {},
     "output_type": "execute_result"
    }
   ],
   "source": [
    "# Make a new DataFrame equal to the city data to drop all humidity cities with over 100%\n",
    "clean_cities_df = cities_df.drop(index = over_100, inplace=False)\n",
    "\n",
    "# Reset index\n",
    "clean_cities_df.reset_index(drop=True, inplace=True)\n",
    "\n",
    "# Display the DataFrame\n",
    "clean_cities_df.head()"
   ]
  },
  {
   "cell_type": "markdown",
   "metadata": {},
   "source": [
    "## Plotting the Data\n",
    "* Use proper labelling of the plots using plot titles (including date of analysis) and axes labels.\n",
    "* Save the plotted figures as .pngs."
   ]
  },
  {
   "cell_type": "code",
   "execution_count": 9,
   "metadata": {},
   "outputs": [],
   "source": [
    "# Setup vairable to be used accross all plots\n",
    "lat = clean_cities_df[\"Lat\"]\n",
    "\n",
    "# Add todays dat and format to DD/MM/YYY\n",
    "today = date.today()\n",
    "date = today.strftime(\"%d/%m/%Y\")"
   ]
  },
  {
   "cell_type": "markdown",
   "metadata": {},
   "source": [
    "## Latitude vs. Temperature Plot"
   ]
  },
  {
   "cell_type": "code",
   "execution_count": 10,
   "metadata": {
    "scrolled": true
   },
   "outputs": [
    {
     "data": {
      "image/png": "[encoded data removed]",
      "text/plain": [
       "<Figure size 432x288 with 1 Axes>"
      ]
     },
     "metadata": {
      "needs_background": "light"
     },
     "output_type": "display_data"
    }
   ],
   "source": [
    "# Setup vairable\n",
    "temperature = clean_cities_df['Max Temp']\n",
    "\n",
    "# Creat scatter plot\n",
    "plt.scatter(lat,temperature, marker=\"o\", facecolors=\"red\", edgecolors=\"black\")\n",
    "\n",
    "# Add labels, title and grid\n",
    "plt.xlabel(\"Latitude\")\n",
    "plt.ylabel(\"Max Temperature (C)\")\n",
    "plt.title(f\"City Latitude vs Max Temperature ({date})\")\n",
    "plt.grid()\n",
    "\n",
    "# Saving to png\n",
    "plt.savefig(\"Images/WeatherPy/Latitude_vs_Temperature_Plot.png\")\n",
    "\n",
    "# Display grid\n",
    "plt.show()"
   ]
  },
  {
   "cell_type": "markdown",
   "metadata": {},
   "source": [
    "With the plot above we are trying analyse if there is a relationship between the city latitude and the maximim temperature in that city."
   ]
  },
  {
   "cell_type": "markdown",
   "metadata": {},
   "source": [
    "## Latitude vs. Humidity Plot"
   ]
  },
  {
   "cell_type": "code",
   "execution_count": 11,
   "metadata": {},
   "outputs": [
    {
     "data": {
      "image/png": "[encoded data removed]",
      "text/plain": [
       "<Figure size 432x288 with 1 Axes>"
      ]
     },
     "metadata": {
      "needs_background": "light"
     },
     "output_type": "display_data"
    }
   ],
   "source": [
    "# Setup vairable\n",
    "humidity = clean_cities_df['Humidity']\n",
    "\n",
    "# Creat scatter plot\n",
    "plt.scatter(lat,humidity, marker=\"o\", facecolors=\"red\", edgecolors=\"black\")\n",
    "\n",
    "# Add labels, title and grid\n",
    "plt.xlabel(\"Latitude\")\n",
    "plt.ylabel(\"Humidity (%)\")\n",
    "plt.title(f\"City Latitude vs Humidity ({date})\")\n",
    "plt.grid()\n",
    "\n",
    "# Saving to png\n",
    "plt.savefig(\"Images/WeatherPy/Latitude_vs_Humidity_Plot.png\")\n",
    "\n",
    "# Display grid\n",
    "plt.show()"
   ]
  },
  {
   "cell_type": "markdown",
   "metadata": {},
   "source": [
    "With the plot above we are trying analyse if there is a relationship between the city latitude and the humidity in that city."
   ]
  },
  {
   "cell_type": "markdown",
   "metadata": {},
   "source": [
    "## Latitude vs. Cloudiness Plot"
   ]
  },
  {
   "cell_type": "code",
   "execution_count": 12,
   "metadata": {},
   "outputs": [
    {
     "data": {
      "image/png": "[encoded data removed]",
      "text/plain": [
       "<Figure size 432x288 with 1 Axes>"
      ]
     },
     "metadata": {
      "needs_background": "light"
     },
     "output_type": "display_data"
    }
   ],
   "source": [
    "# Setup vairable\n",
    "cloudiness = clean_cities_df['Cloudiness']\n",
    "\n",
    "# Creat scatter plot\n",
    "plt.scatter(lat,cloudiness, marker=\"o\", facecolors=\"red\", edgecolors=\"black\")\n",
    "\n",
    "# Add labels, title and grid\n",
    "plt.xlabel(\"Latitude\")\n",
    "plt.ylabel(\"Cloudiness (%)\")\n",
    "plt.title(f\"City Latitude vs Cloudiness ({date})\")\n",
    "plt.grid()\n",
    "\n",
    "# Saving to png\n",
    "plt.savefig(\"Images/WeatherPy/Latitude_vs_Cloudiness_Plot.png\")\n",
    "\n",
    "# Display grid\n",
    "plt.show()"
   ]
  },
  {
   "cell_type": "markdown",
   "metadata": {},
   "source": [
    "With the plot above we are trying analyse if there is a relationship between the city latitude and the cloudiness in that city."
   ]
  },
  {
   "cell_type": "markdown",
   "metadata": {},
   "source": [
    "## Latitude vs. Wind Speed Plot"
   ]
  },
  {
   "cell_type": "code",
   "execution_count": 13,
   "metadata": {},
   "outputs": [
    {
     "data": {
      "image/png": "[encoded data removed]",
      "text/plain": [
       "<Figure size 432x288 with 1 Axes>"
      ]
     },
     "metadata": {
      "needs_background": "light"
     },
     "output_type": "display_data"
    }
   ],
   "source": [
    "# Setup vairable\n",
    "wind_speed = clean_cities_df['Wind Speed']\n",
    "\n",
    "# Creat scatter plot\n",
    "plt.scatter(lat,wind_speed, marker=\"o\", facecolors=\"red\", edgecolors=\"black\")\n",
    "\n",
    "# Add labels, title and grid\n",
    "plt.xlabel(\"Latitude\")\n",
    "plt.ylabel(\"Wind Speed (m/s)\")\n",
    "plt.title(f\"City Latitude vs Wind Speed ({date})\")\n",
    "plt.grid()\n",
    "\n",
    "# Saving to png\n",
    "plt.savefig(\"Images/WeatherPy/Latitude_vs_Wind_Speed_Plot.png\")\n",
    "\n",
    "# Display grid\n",
    "plt.show()"
   ]
  },
  {
   "cell_type": "raw",
   "metadata": {},
   "source": [
    "With the plot above we are trying analyse if there is a relationship between the city latitude and the wind speed in that city."
   ]
  },
  {
   "cell_type": "markdown",
   "metadata": {},
   "source": [
    "## Linear Regression"
   ]
  },
  {
   "cell_type": "code",
   "execution_count": 14,
   "metadata": {},
   "outputs": [],
   "source": [
    "# create seperate dataframes split into southern and northen hemispheres\n",
    "north_hem_clean_cities_df = clean_cities_df.loc[clean_cities_df[\"Lat\"] >= 0]\n",
    "south_hem_clean_cities_df = clean_cities_df.loc[clean_cities_df[\"Lat\"] < 0]"
   ]
  },
  {
   "cell_type": "code",
   "execution_count": 15,
   "metadata": {},
   "outputs": [],
   "source": [
    "# Setup vairable to be used accross all plots\n",
    "north_lat = north_hem_clean_cities_df[\"Lat\"]\n",
    "south_lat = south_hem_clean_cities_df[\"Lat\"]"
   ]
  },
  {
   "cell_type": "markdown",
   "metadata": {},
   "source": [
    "###  Max Temp vs. Latitude Linear Regression"
   ]
  },
  {
   "cell_type": "markdown",
   "metadata": {},
   "source": [
    "####  Northern Hemisphere - Max Temp vs. Latitude Linear Regression"
   ]
  },
  {
   "cell_type": "code",
   "execution_count": 16,
   "metadata": {},
   "outputs": [
    {
     "name": "stdout",
     "output_type": "stream",
     "text": [
      "The r-squared is: 0.6222117735728788\n"
     ]
    },
    {
     "data": {
      "image/png": "[encoded data removed]",
      "text/plain": [
       "<Figure size 432x288 with 1 Axes>"
      ]
     },
     "metadata": {
      "needs_background": "light"
     },
     "output_type": "display_data"
    }
   ],
   "source": [
    "# Set variables for plotting\n",
    "y_values = north_hem_clean_cities_df[\"Max Temp\"]\n",
    "x_values = north_lat\n",
    "\n",
    "# Calculate and assign variables for lingress\n",
    "(slope, intercept, rvalue, pvalue, stderr) = linregress(x_values, y_values)\n",
    "regress_values = x_values * slope + intercept\n",
    "\n",
    "# create equation string\n",
    "line_eq = \"y = \" + str(round(slope,2)) + \"x + \" + str(round(intercept,2))\n",
    "\n",
    "# Create scatter plot\n",
    "plt.scatter(x_values,y_values, marker=\"o\", facecolors=\"red\", edgecolors=\"black\")\n",
    "plt.plot(x_values,regress_values,\"r-\")\n",
    "\n",
    "# Plot equation string\n",
    "plt.annotate(line_eq,(5.8,8),fontsize=15,color=\"blue\")\n",
    "\n",
    "# Add labels\n",
    "plt.xlabel(\"Latitude\")\n",
    "plt.ylabel(\"Max Temp\")\n",
    "plt.title(f\" Northern Hemisphere - Max Temp vs. Latitude ({date})\")\n",
    "\n",
    "# Print r-squared value\n",
    "print(f\"The r-squared is: {rvalue**2}\")\n",
    "\n",
    "# Saving to png\n",
    "plt.savefig(\"Images/WeatherPy/Northen_Hemisphere_Latitude_vs_Max_Temp_Plot.png\")\n",
    "\n",
    "plt.show()"
   ]
  },
  {
   "cell_type": "markdown",
   "metadata": {},
   "source": [
    "####  Southern Hemisphere - Max Temp vs. Latitude Linear Regression"
   ]
  },
  {
   "cell_type": "code",
   "execution_count": 17,
   "metadata": {},
   "outputs": [
    {
     "name": "stdout",
     "output_type": "stream",
     "text": [
      "The r-squared is: 0.6207629766996368\n"
     ]
    },
    {
     "data": {
      "image/png": "[encoded data removed]",
      "text/plain": [
       "<Figure size 432x288 with 1 Axes>"
      ]
     },
     "metadata": {
      "needs_background": "light"
     },
     "output_type": "display_data"
    }
   ],
   "source": [
    "# Set variables for plotting\n",
    "y_values = south_hem_clean_cities_df[\"Max Temp\"]\n",
    "x_values = south_lat\n",
    "\n",
    "# Calculate and assign variables for lingress\n",
    "(slope, intercept, rvalue, pvalue, stderr) = linregress(x_values, y_values)\n",
    "regress_values = x_values * slope + intercept\n",
    "\n",
    "# create equation string\n",
    "line_eq2 = \"y = \" + str(round(slope,2)) + \"x + \" + str(round(intercept,2))\n",
    "\n",
    "# Create scatter plot\n",
    "plt.scatter(x_values,y_values, marker=\"o\", facecolors=\"red\", edgecolors=\"black\")\n",
    "plt.plot(x_values,regress_values,\"r-\")\n",
    "\n",
    "# Plot equation string\n",
    "plt.annotate(line_eq2,(-50,30),fontsize=15,color=\"blue\")\n",
    "\n",
    "# Add labels\n",
    "plt.xlabel(\"Latitude\")\n",
    "plt.ylabel(\"Max Temp\")\n",
    "plt.title(f\" Southern Hemisphere - Max Temp vs. Latitude ({date})\")\n",
    "\n",
    "# Print r-squared value\n",
    "print(f\"The r-squared is: {rvalue**2}\")\n",
    "\n",
    "# Saving to png\n",
    "plt.savefig(\"Images/WeatherPy/Southern_Hemisphere_Latitude_vs_Max_Temp_Plot.png\")\n",
    "\n",
    "plt.show()"
   ]
  },
  {
   "cell_type": "markdown",
   "metadata": {},
   "source": [
    "### Humidity (%) vs. Latitude Linear Regression"
   ]
  },
  {
   "cell_type": "markdown",
   "metadata": {},
   "source": [
    "####  Northern Hemisphere - Humidity (%) vs. Latitude Linear Regression"
   ]
  },
  {
   "cell_type": "code",
   "execution_count": 18,
   "metadata": {},
   "outputs": [
    {
     "name": "stdout",
     "output_type": "stream",
     "text": [
      "The r-squared is: 0.0006254672553479003\n"
     ]
    },
    {
     "data": {
      "image/png": "[encoded data removed]",
      "text/plain": [
       "<Figure size 432x288 with 1 Axes>"
      ]
     },
     "metadata": {
      "needs_background": "light"
     },
     "output_type": "display_data"
    }
   ],
   "source": [
    "# Set variables for plotting\n",
    "y_values = north_hem_clean_cities_df[\"Humidity\"]\n",
    "x_values = north_lat\n",
    "\n",
    "# Calculate and assign variables for lingress\n",
    "(slope, intercept, rvalue, pvalue, stderr) = linregress(x_values, y_values)\n",
    "regress_values = x_values * slope + intercept\n",
    "\n",
    "# create equation string\n",
    "line_eq = \"y = \" + str(round(slope,2)) + \"x + \" + str(round(intercept,2))\n",
    "\n",
    "# Create scatter plot\n",
    "plt.scatter(x_values,y_values, marker=\"o\", facecolors=\"red\", edgecolors=\"black\")\n",
    "plt.plot(x_values,regress_values,\"r-\")\n",
    "\n",
    "# Plot equation string\n",
    "plt.annotate(line_eq,(40,15),fontsize=15,color=\"blue\")\n",
    "\n",
    "# Add labels\n",
    "plt.xlabel(\"Latitude\")\n",
    "plt.ylabel(\"Humidity \")\n",
    "plt.title(f\" Northern Hemisphere - Humidity (%) vs. Latitude ({date})\")\n",
    "\n",
    "# Print r-squared value\n",
    "print(f\"The r-squared is: {rvalue**2}\")\n",
    "\n",
    "# Saving to png\n",
    "plt.savefig(\"Images/WeatherPy/Northen_Hemisphere_Latitude_vs_Humidity_Plot.png\")\n",
    "\n",
    "plt.show()"
   ]
  },
  {
   "cell_type": "markdown",
   "metadata": {},
   "source": [
    "####  Southern Hemisphere - Humidity (%) vs. Latitude Linear Regression"
   ]
  },
  {
   "cell_type": "code",
   "execution_count": 19,
   "metadata": {},
   "outputs": [
    {
     "name": "stdout",
     "output_type": "stream",
     "text": [
      "The r-squared is: 0.014153148872690188\n"
     ]
    },
    {
     "data": {
      "image/png": "[encoded data removed]",
      "text/plain": [
       "<Figure size 432x288 with 1 Axes>"
      ]
     },
     "metadata": {
      "needs_background": "light"
     },
     "output_type": "display_data"
    }
   ],
   "source": [
    "# Set variables for plotting\n",
    "y_values = south_hem_clean_cities_df[\"Humidity\"]\n",
    "x_values = south_lat\n",
    "\n",
    "# Calculate and assign variables for lingress\n",
    "(slope, intercept, rvalue, pvalue, stderr) = linregress(x_values, y_values)\n",
    "regress_values = x_values * slope + intercept\n",
    "\n",
    "# create equation string\n",
    "line_eq = \"y = \" + str(round(slope,2)) + \"x + \" + str(round(intercept,2))\n",
    "\n",
    "# Create scatter plot\n",
    "plt.scatter(x_values,y_values, marker=\"o\", facecolors=\"red\", edgecolors=\"black\")\n",
    "plt.plot(x_values,regress_values,\"r-\")\n",
    "\n",
    "# Plot equation string\n",
    "plt.annotate(line_eq,(-50,20),fontsize=15,color=\"blue\")\n",
    "\n",
    "# Add labels\n",
    "plt.xlabel(\"Latitude\")\n",
    "plt.ylabel(\"Humidity\")\n",
    "plt.title(f\" Southern Hemisphere - Humidity (%) vs. Latitude ({date})\")\n",
    "\n",
    "# Print r-squared value\n",
    "print(f\"The r-squared is: {rvalue**2}\")\n",
    "\n",
    "# Saving to png\n",
    "plt.savefig(\"Images/WeatherPy/Southern_Hemisphere_Latitude_vs_Humidity_Plot.png\")\n",
    "\n",
    "plt.show()"
   ]
  },
  {
   "cell_type": "markdown",
   "metadata": {},
   "source": [
    "### Cloudiness (%) vs. Latitude Linear Regression"
   ]
  },
  {
   "cell_type": "markdown",
   "metadata": {},
   "source": [
    "####  Northern Hemisphere - Cloudiness (%) vs. Latitude Linear Regression"
   ]
  },
  {
   "cell_type": "code",
   "execution_count": 20,
   "metadata": {},
   "outputs": [
    {
     "name": "stdout",
     "output_type": "stream",
     "text": [
      "The r-squared is: 0.012386487858362796\n"
     ]
    },
    {
     "data": {
      "image/png": "[encoded data removed]",
      "text/plain": [
       "<Figure size 432x288 with 1 Axes>"
      ]
     },
     "metadata": {
      "needs_background": "light"
     },
     "output_type": "display_data"
    }
   ],
   "source": [
    "# Set variables for plotting\n",
    "y_values = north_hem_clean_cities_df[\"Cloudiness\"]\n",
    "x_values = north_lat\n",
    "\n",
    "# Calculate and assign variables for lingress\n",
    "(slope, intercept, rvalue, pvalue, stderr) = linregress(x_values, y_values)\n",
    "regress_values = x_values * slope + intercept\n",
    "\n",
    "# create equation string\n",
    "line_eq = \"y = \" + str(round(slope,2)) + \"x + \" + str(round(intercept,2))\n",
    "\n",
    "# Create scatter plot\n",
    "plt.scatter(x_values,y_values, marker=\"o\", facecolors=\"red\", edgecolors=\"black\")\n",
    "plt.plot(x_values,regress_values,\"r-\")\n",
    "\n",
    "# Plot equation string\n",
    "plt.annotate(line_eq,(40,18),fontsize=15,color=\"blue\")\n",
    "\n",
    "# Add labels\n",
    "plt.xlabel(\"Latitude\")\n",
    "plt.ylabel(\"Cloudiness\")\n",
    "plt.title(f\" Northern Hemisphere - Cloudiness (%) vs. Latitude ({date})\")\n",
    "\n",
    "# Print r-squared value\n",
    "print(f\"The r-squared is: {rvalue**2}\")\n",
    "\n",
    "# Saving to png\n",
    "plt.savefig(\"Images/WeatherPy/Northen_Hemisphere_Latitude_vs_Cloudiness_Plot.png\")\n",
    "\n",
    "plt.show()"
   ]
  },
  {
   "cell_type": "markdown",
   "metadata": {},
   "source": [
    "####  Southern Hemisphere - Cloudiness (%) vs. Latitude Linear Regression"
   ]
  },
  {
   "cell_type": "code",
   "execution_count": 21,
   "metadata": {},
   "outputs": [
    {
     "name": "stdout",
     "output_type": "stream",
     "text": [
      "The r-squared is: 0.05282462265909024\n"
     ]
    },
    {
     "data": {
      "image/png": "[encoded data removed]",
      "text/plain": [
       "<Figure size 432x288 with 1 Axes>"
      ]
     },
     "metadata": {
      "needs_background": "light"
     },
     "output_type": "display_data"
    }
   ],
   "source": [
    "# Set variables for plotting\n",
    "y_values = south_hem_clean_cities_df[\"Cloudiness\"]\n",
    "x_values = south_lat\n",
    "\n",
    "# Calculate and assign variables for lingress\n",
    "(slope, intercept, rvalue, pvalue, stderr) = linregress(x_values, y_values)\n",
    "regress_values = x_values * slope + intercept\n",
    "\n",
    "# create equation string\n",
    "line_eq = \"y = \" + str(round(slope,2)) + \"x + \" + str(round(intercept,2))\n",
    "\n",
    "# Create scatter plot\n",
    "plt.scatter(x_values,y_values, marker=\"o\", facecolors=\"red\", edgecolors=\"black\")\n",
    "plt.plot(x_values,regress_values,\"r-\")\n",
    "\n",
    "# Plot equation string\n",
    "plt.annotate(line_eq,(-30,25),fontsize=15,color=\"blue\")\n",
    "\n",
    "# Add labels\n",
    "plt.xlabel(\"Latitude\")\n",
    "plt.ylabel(\"Cloudiness\")\n",
    "plt.title(f\" Southern Hemisphere - Cloudiness (%) vs. Latitude ({date})\")\n",
    "\n",
    "# Print r-squared value\n",
    "print(f\"The r-squared is: {rvalue**2}\")\n",
    "\n",
    "# Saving to png\n",
    "plt.savefig(\"Images/WeatherPy/Southern_Hemisphere_Latitude_vs_Cloudiness_Plot.png\")\n",
    "\n",
    "plt.show()"
   ]
  },
  {
   "cell_type": "markdown",
   "metadata": {},
   "source": [
    "### Wind Speed (m/s) vs. Latitude Linear Regression"
   ]
  },
  {
   "cell_type": "markdown",
   "metadata": {},
   "source": [
    "####  Northern Hemisphere - Wind Speed (mph) vs. Latitude Linear Regression"
   ]
  },
  {
   "cell_type": "code",
   "execution_count": 22,
   "metadata": {},
   "outputs": [
    {
     "name": "stdout",
     "output_type": "stream",
     "text": [
      "The r-squared is: 0.013118591671651489\n"
     ]
    },
    {
     "data": {
      "image/png": "[encoded data removed]",
      "text/plain": [
       "<Figure size 432x288 with 1 Axes>"
      ]
     },
     "metadata": {
      "needs_background": "light"
     },
     "output_type": "display_data"
    }
   ],
   "source": [
    "# Set variables for plotting\n",
    "y_values = north_hem_clean_cities_df[\"Wind Speed\"]\n",
    "x_values = north_lat\n",
    "\n",
    "# Calculate and assign variables for lingress\n",
    "(slope, intercept, rvalue, pvalue, stderr) = linregress(x_values, y_values)\n",
    "regress_values = x_values * slope + intercept\n",
    "\n",
    "# create equation string\n",
    "line_eq = \"y = \" + str(round(slope,2)) + \"x + \" + str(round(intercept,2))\n",
    "\n",
    "# Create scatter plot\n",
    "plt.scatter(x_values,y_values, marker=\"o\", facecolors=\"red\", edgecolors=\"black\")\n",
    "plt.plot(x_values,regress_values,\"r-\")\n",
    "\n",
    "# Plot equation string\n",
    "plt.annotate(line_eq,(10,12),fontsize=15,color=\"blue\")\n",
    "\n",
    "# Add labels\n",
    "plt.xlabel(\"Latitude\")\n",
    "plt.ylabel(\"Wind Speed\")\n",
    "plt.title(f\" Northern Hemisphere - Wind Speed (mph) vs. Latitude ({date})\")\n",
    "\n",
    "# Print r-squared value\n",
    "print(f\"The r-squared is: {rvalue**2}\")\n",
    "\n",
    "# Saving to png\n",
    "plt.savefig(\"Images/WeatherPy/Northen_Hemisphere_Latitude_vs_Wind_Speed_Plot.png\")\n",
    "\n",
    "plt.show()"
   ]
  },
  {
   "cell_type": "markdown",
   "metadata": {},
   "source": [
    "####  Southern Hemisphere - Wind Speed (mph) vs. Latitude Linear Regression"
   ]
  },
  {
   "cell_type": "code",
   "execution_count": 23,
   "metadata": {},
   "outputs": [
    {
     "name": "stdout",
     "output_type": "stream",
     "text": [
      "The r-squared is: 0.00011835277357662228\n"
     ]
    },
    {
     "data": {
      "image/png": "[encoded data removed]",
      "text/plain": [
       "<Figure size 432x288 with 1 Axes>"
      ]
     },
     "metadata": {
      "needs_background": "light"
     },
     "output_type": "display_data"
    }
   ],
   "source": [
    "# Set variables for plotting\n",
    "y_values = south_hem_clean_cities_df[\"Wind Speed\"]\n",
    "x_values = south_lat\n",
    "\n",
    "# Calculate and assign variables for lingress\n",
    "(slope, intercept, rvalue, pvalue, stderr) = linregress(x_values, y_values)\n",
    "regress_values = x_values * slope + intercept\n",
    "\n",
    "# create equation string\n",
    "line_eq = \"y = \" + str(round(slope,2)) + \"x + \" + str(round(intercept,2))\n",
    "\n",
    "# Create scatter plot\n",
    "plt.scatter(x_values,y_values, marker=\"o\", facecolors=\"red\", edgecolors=\"black\")\n",
    "plt.plot(x_values,regress_values,\"r-\")\n",
    "\n",
    "# Plot equation string\n",
    "plt.annotate(line_eq,(-40,10),fontsize=15,color=\"blue\")\n",
    "\n",
    "# Add labels\n",
    "plt.xlabel(\"Latitude\")\n",
    "plt.ylabel(\"Wind Speed\")\n",
    "plt.title(f\"Southern Hemisphere - Wind Speed (mph) vs. Latitude ({date})\")\n",
    "\n",
    "# Print r-squared value\n",
    "print(f\"The r-squared is: {rvalue**2}\")\n",
    "\n",
    "# Saving to png\n",
    "plt.savefig(\"Images/WeatherPy/Southern_Hemisphere_Latitude_vs_Wind_Speed_Plot.png\")\n",
    "\n",
    "plt.show()"
   ]
  },
  {
   "cell_type": "markdown",
   "metadata": {},
   "source": [
    "## Findings"
   ]
  },
  {
   "cell_type": "markdown",
   "metadata": {},
   "source": [
    "    -In the plot for Southern Hemisphere - Max Temp vs. Latitude Linear Regression, with a r-squared of 0.6207629766996368, reveals that approximitly 62% of the variability observed in the max temperature is explained by the regression model. This hilights that there is a potential relationship between reducing temperators the further South you travel. \n",
    "\n",
    "    -In the plot for Northern Hemisphere - Max Temp vs. Latitude Linear Regression, with a r-squared of 0.6222117735728788, reveals that approximitly 62% of the variability observed in the max temperature is explained by the regression model. This hilights that there is a potential relationship between reducing temperators the further North you travel. \n",
    "    \n",
    "    - In plots ((Southern and Northern) Hemisphere vs. Wind Speed) there does not apear to be any positive relationships between the data. Southern Heisphere vs. Wind Speed reveals approximitly 0.01% and Northern Hemisphere vs. Wind Speed reveals approximitly 1.31% of the variability observed in the wind speed is explained by the regression model. Indicating more variability from other vairables and not the regression model.\n",
    "    \n",
    " "
   ]
  }
 ],
 "metadata": {
  "anaconda-cloud": {},
  "kernel_info": {
   "name": "python3"
  },
  "kernelspec": {
   "display_name": "Python 3.7.7 ('PythonData2')",
   "language": "python",
   "name": "python3"
  },
  "language_info": {
   "codemirror_mode": {
    "name": "ipython",
    "version": 3
   },
   "file_extension": ".py",
   "mimetype": "text/x-python",
   "name": "python",
   "nbconvert_exporter": "python",
   "pygments_lexer": "ipython3",
   "version": "3.7.7"
  },
  "latex_envs": {
   "LaTeX_envs_menu_present": true,
   "autoclose": false,
   "autocomplete": true,
   "bibliofile": "biblio.bib",
   "cite_by": "apalike",
   "current_citInitial": 1,
   "eqLabelWithNumbers": true,
   "eqNumInitial": 1,
   "hotkeys": {
    "equation": "Ctrl-E",
    "itemize": "Ctrl-I"
   },
   "labels_anchors": false,
   "latex_user_defs": false,
   "report_style_numbering": false,
   "user_envs_cfg": false
  },
  "nteract": {
   "version": "0.12.3"
  },
  "vscode": {
   "interpreter": {
    "hash": "99e980432cf1793f0afa1e6d9b158221e18e1cde94fa3659a3762aef13103e01"
   }
  }
 },
 "nbformat": 4,
 "nbformat_minor": 2
}
