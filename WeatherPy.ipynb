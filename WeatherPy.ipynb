{
 "cells": [
  {
   "cell_type": "markdown",
   "metadata": {},
   "source": [
    "# WeatherPy\n",
    "----\n",
    "\n",
    "#### Note\n",
    "* Instructions have been included for each segment. You do not have to follow them exactly, but they are included to help you think through the steps."
   ]
  },
  {
   "cell_type": "code",
   "execution_count": 1,
   "metadata": {
    "scrolled": true
   },
   "outputs": [],
   "source": [
    "# Dependencies and Setup\n",
    "import matplotlib.pyplot as plt\n",
    "import pandas as pd\n",
    "import numpy as np\n",
    "import requests\n",
    "import time\n",
    "import json\n",
    "from datetime import date\n",
    "from scipy.stats import linregress\n",
    "\n",
    "# Import API key\n",
    "from api_keys import weather_api_key\n",
    "\n",
    "# Incorporated citipy to determine city based on latitude and longitude\n",
    "from citipy import citipy\n",
    "\n",
    "# Output File (CSV)\n",
    "output_data_file = \"output_data_file/cities.csv\"\n",
    "\n",
    "# Range of latitudes and longitudes\n",
    "lat_range = (-90, 90)\n",
    "lng_range = (-180, 180)"
   ]
  },
  {
   "cell_type": "markdown",
   "metadata": {},
   "source": [
    "## Generate Cities List"
   ]
  },
  {
   "cell_type": "code",
   "execution_count": 2,
   "metadata": {},
   "outputs": [
    {
     "data": {
      "text/plain": [
       "627"
      ]
     },
     "execution_count": 2,
     "metadata": {},
     "output_type": "execute_result"
    }
   ],
   "source": [
    "# List for holding lat_lngs and cities\n",
    "lat_lngs = []\n",
    "cities = []\n",
    "\n",
    "# Create a set of random lat and lng combinations\n",
    "lats = np.random.uniform(lat_range[0], lat_range[1], size=1500)\n",
    "lngs = np.random.uniform(lng_range[0], lng_range[1], size=1500)\n",
    "\n",
    "lat_lngs = zip(lats, lngs)\n",
    "\n",
    "# Identify nearest city for each lat, lng combination\n",
    "for lat_lng in lat_lngs:\n",
    "    city = citipy.nearest_city(lat_lng[0], lat_lng[1]).city_name\n",
    "    \n",
    "    # If the city is unique, then add it to a our cities list\n",
    "    if city not in cities:\n",
    "        cities.append(city)\n",
    "\n",
    "# Print the city count to confirm sufficient count\n",
    "len(cities)"
   ]
  },
  {
   "cell_type": "code",
   "execution_count": 3,
   "metadata": {},
   "outputs": [
    {
     "data": {
      "text/html": [
       "<div>\n",
       "<style scoped>\n",
       "    .dataframe tbody tr th:only-of-type {\n",
       "        vertical-align: middle;\n",
       "    }\n",
       "\n",
       "    .dataframe tbody tr th {\n",
       "        vertical-align: top;\n",
       "    }\n",
       "\n",
       "    .dataframe thead th {\n",
       "        text-align: right;\n",
       "    }\n",
       "</style>\n",
       "<table border=\"1\" class=\"dataframe\">\n",
       "  <thead>\n",
       "    <tr style=\"text-align: right;\">\n",
       "      <th></th>\n",
       "      <th>City</th>\n",
       "    </tr>\n",
       "  </thead>\n",
       "  <tbody>\n",
       "    <tr>\n",
       "      <th>0</th>\n",
       "      <td>zimatlan</td>\n",
       "    </tr>\n",
       "    <tr>\n",
       "      <th>1</th>\n",
       "      <td>vila velha</td>\n",
       "    </tr>\n",
       "    <tr>\n",
       "      <th>2</th>\n",
       "      <td>ribeira grande</td>\n",
       "    </tr>\n",
       "    <tr>\n",
       "      <th>3</th>\n",
       "      <td>mar del plata</td>\n",
       "    </tr>\n",
       "    <tr>\n",
       "      <th>4</th>\n",
       "      <td>umzimvubu</td>\n",
       "    </tr>\n",
       "  </tbody>\n",
       "</table>\n",
       "</div>"
      ],
      "text/plain": [
       "             City\n",
       "0        zimatlan\n",
       "1      vila velha\n",
       "2  ribeira grande\n",
       "3   mar del plata\n",
       "4       umzimvubu"
      ]
     },
     "execution_count": 3,
     "metadata": {},
     "output_type": "execute_result"
    }
   ],
   "source": [
    "# convert cities list into a pandas dataframe\n",
    "cities_df = pd.DataFrame(cities)\n",
    "\n",
    "# Rename column\n",
    "cities_df = cities_df.rename(columns={0: \"City\"})\n",
    "cities_df.head()"
   ]
  },
  {
   "cell_type": "markdown",
   "metadata": {},
   "source": [
    "### Perform API Calls\n",
    "* Perform a weather check on each city using a series of successive API calls.\n",
    "* Include a print log of each city as it's being processed (with the city number and city name).\n"
   ]
  },
  {
   "cell_type": "code",
   "execution_count": 4,
   "metadata": {},
   "outputs": [
    {
     "name": "stdout",
     "output_type": "stream",
     "text": [
      "Beginning Data Retrieval\n",
      "------------------------------\n",
      "City not found. Skipping....\n",
      "Processing Record 1 of set 2 | vila velha\n",
      "Processing Record 2 of set 2 | ribeira grande\n",
      "Processing Record 3 of set 2 | mar del plata\n",
      "City not found. Skipping....\n",
      "Processing Record 1 of set 3 | thompson\n",
      "Processing Record 2 of set 3 | sao joao da barra\n",
      "Processing Record 3 of set 3 | mulchen\n",
      "Processing Record 4 of set 3 | vanavara\n",
      "Processing Record 5 of set 3 | baay\n",
      "Processing Record 6 of set 3 | busselton\n",
      "Processing Record 7 of set 3 | pevek\n",
      "Processing Record 8 of set 3 | ushuaia\n",
      "Processing Record 9 of set 3 | cape town\n",
      "Processing Record 10 of set 3 | ternate\n",
      "Processing Record 11 of set 3 | provideniya\n",
      "Processing Record 12 of set 3 | rikitea\n",
      "City not found. Skipping....\n",
      "Processing Record 1 of set 4 | mackenzie\n",
      "Processing Record 2 of set 4 | port elizabeth\n",
      "Processing Record 3 of set 4 | umm lajj\n",
      "Processing Record 4 of set 4 | fernley\n",
      "Processing Record 5 of set 4 | yellowknife\n",
      "Processing Record 6 of set 4 | laramie\n",
      "City not found. Skipping....\n",
      "Processing Record 1 of set 5 | hobart\n",
      "Processing Record 2 of set 5 | wenzhou\n",
      "Processing Record 3 of set 5 | ponta do sol\n",
      "City not found. Skipping....\n",
      "Processing Record 1 of set 6 | kapaa\n",
      "Processing Record 2 of set 6 | suntar\n",
      "Processing Record 3 of set 6 | punta arenas\n",
      "Processing Record 4 of set 6 | boqueirao\n",
      "Processing Record 5 of set 6 | berlevag\n",
      "Processing Record 6 of set 6 | chapais\n",
      "Processing Record 7 of set 6 | edson\n",
      "Processing Record 8 of set 6 | ilheus\n",
      "Processing Record 9 of set 6 | puerto ayora\n",
      "Processing Record 10 of set 6 | clyde river\n",
      "Processing Record 11 of set 6 | saint-philippe\n",
      "Processing Record 12 of set 6 | hofn\n",
      "Processing Record 13 of set 6 | djambala\n",
      "Processing Record 14 of set 6 | tasiilaq\n",
      "Processing Record 15 of set 6 | vardo\n",
      "Processing Record 16 of set 6 | beringovskiy\n",
      "Processing Record 17 of set 6 | mataura\n",
      "Processing Record 18 of set 6 | guerrero negro\n",
      "Processing Record 19 of set 6 | qaanaaq\n",
      "Processing Record 20 of set 6 | codrington\n",
      "Processing Record 21 of set 6 | sur\n",
      "Processing Record 22 of set 6 | esperance\n",
      "Processing Record 23 of set 6 | port alfred\n",
      "City not found. Skipping....\n",
      "Processing Record 1 of set 7 | hermanus\n",
      "Processing Record 2 of set 7 | coahuayana\n",
      "Processing Record 3 of set 7 | sakaiminato\n",
      "Processing Record 4 of set 7 | arraial do cabo\n",
      "Processing Record 5 of set 7 | iquique\n",
      "Processing Record 6 of set 7 | vaini\n",
      "Processing Record 7 of set 7 | tutoia\n",
      "Processing Record 8 of set 7 | hasaki\n",
      "Processing Record 9 of set 7 | chokurdakh\n",
      "Processing Record 10 of set 7 | zharkent\n",
      "Processing Record 11 of set 7 | albany\n",
      "Processing Record 12 of set 7 | hithadhoo\n",
      "Processing Record 13 of set 7 | jamestown\n",
      "Processing Record 14 of set 7 | hilo\n",
      "Processing Record 15 of set 7 | cangucu\n",
      "Processing Record 16 of set 7 | nikolskoye\n",
      "Processing Record 17 of set 7 | luderitz\n",
      "Processing Record 18 of set 7 | bluff\n",
      "Processing Record 19 of set 7 | tuktoyaktuk\n",
      "Processing Record 20 of set 7 | yulara\n",
      "Processing Record 21 of set 7 | avarua\n",
      "Processing Record 22 of set 7 | lagoa\n",
      "Processing Record 23 of set 7 | singkawang\n",
      "Processing Record 24 of set 7 | saldanha\n",
      "Processing Record 25 of set 7 | synya\n",
      "Processing Record 26 of set 7 | ponnani\n",
      "Processing Record 27 of set 7 | hualmay\n",
      "Processing Record 28 of set 7 | vanimo\n",
      "Processing Record 29 of set 7 | la seyne-sur-mer\n",
      "Processing Record 30 of set 7 | carutapera\n",
      "Processing Record 31 of set 7 | hambantota\n",
      "Processing Record 32 of set 7 | dikson\n",
      "Processing Record 33 of set 7 | iizuka\n",
      "Processing Record 34 of set 7 | atuona\n",
      "Processing Record 35 of set 7 | georgetown\n",
      "City not found. Skipping....\n",
      "City not found. Skipping....\n",
      "City not found. Skipping....\n",
      "Processing Record 1 of set 10 | pisco\n",
      "Processing Record 2 of set 10 | tiksi\n",
      "Processing Record 3 of set 10 | barrancabermeja\n",
      "Processing Record 4 of set 10 | lajas\n",
      "Processing Record 5 of set 10 | alofi\n",
      "Processing Record 6 of set 10 | chernyshevskiy\n",
      "Processing Record 7 of set 10 | olafsvik\n",
      "Processing Record 8 of set 10 | taunton\n",
      "Processing Record 9 of set 10 | talara\n",
      "Processing Record 10 of set 10 | nizhniy kuranakh\n",
      "Processing Record 11 of set 10 | lavrentiya\n",
      "Processing Record 12 of set 10 | vama\n",
      "Processing Record 13 of set 10 | sao felix do xingu\n",
      "City not found. Skipping....\n",
      "Processing Record 1 of set 11 | tigil\n",
      "Processing Record 2 of set 11 | mahebourg\n",
      "Processing Record 3 of set 11 | sao filipe\n",
      "Processing Record 4 of set 11 | bengkulu\n",
      "Processing Record 5 of set 11 | soderhamn\n",
      "City not found. Skipping....\n",
      "Processing Record 1 of set 12 | ust-maya\n",
      "Processing Record 2 of set 12 | bredasdorp\n",
      "Processing Record 3 of set 12 | kedrovyy\n",
      "Processing Record 4 of set 12 | sangar\n",
      "Processing Record 5 of set 12 | kaohsiung\n",
      "Processing Record 6 of set 12 | tyukalinsk\n",
      "Processing Record 7 of set 12 | lardos\n",
      "Processing Record 8 of set 12 | lebu\n",
      "Processing Record 9 of set 12 | stephenville\n",
      "Processing Record 10 of set 12 | ambulu\n",
      "Processing Record 11 of set 12 | carnarvon\n",
      "City not found. Skipping....\n",
      "Processing Record 1 of set 13 | east london\n",
      "Processing Record 2 of set 13 | ajdabiya\n",
      "Processing Record 3 of set 13 | tuatapere\n",
      "Processing Record 4 of set 13 | palana\n",
      "Processing Record 5 of set 13 | gat\n",
      "Processing Record 6 of set 13 | namatanai\n",
      "Processing Record 7 of set 13 | oster\n",
      "Processing Record 8 of set 13 | armilla\n",
      "Processing Record 9 of set 13 | kang\n",
      "Processing Record 10 of set 13 | pustoshka\n",
      "Processing Record 11 of set 13 | ornskoldsvik\n",
      "Processing Record 12 of set 13 | mandalgovi\n",
      "Processing Record 13 of set 13 | khatanga\n",
      "Processing Record 14 of set 13 | aklavik\n",
      "Processing Record 15 of set 13 | boende\n",
      "City not found. Skipping....\n",
      "Processing Record 1 of set 14 | torbay\n",
      "Processing Record 2 of set 14 | cayenne\n",
      "Processing Record 3 of set 14 | camana\n",
      "Processing Record 4 of set 14 | cabo san lucas\n",
      "Processing Record 5 of set 14 | richards bay\n",
      "Processing Record 6 of set 14 | dospat\n",
      "Processing Record 7 of set 14 | bintulu\n",
      "Processing Record 8 of set 14 | pangoa\n",
      "Processing Record 9 of set 14 | kardla\n",
      "Processing Record 10 of set 14 | biltine\n",
      "Processing Record 11 of set 14 | australind\n",
      "Processing Record 12 of set 14 | kearney\n",
      "Processing Record 13 of set 14 | inhambane\n",
      "Processing Record 14 of set 14 | bilma\n",
      "Processing Record 15 of set 14 | moose factory\n",
      "Processing Record 16 of set 14 | masterton\n",
      "Processing Record 17 of set 14 | rassvet\n",
      "Processing Record 18 of set 14 | fairbanks\n",
      "Processing Record 19 of set 14 | foumban\n",
      "City not found. Skipping....\n",
      "Processing Record 1 of set 15 | kuminskiy\n",
      "Processing Record 2 of set 15 | laguna\n",
      "Processing Record 3 of set 15 | morros\n",
      "Processing Record 4 of set 15 | byron bay\n",
      "Processing Record 5 of set 15 | wad rawah\n",
      "Processing Record 6 of set 15 | kaitangata\n",
      "Processing Record 7 of set 15 | narsaq\n",
      "Processing Record 8 of set 15 | porto novo\n",
      "Processing Record 9 of set 15 | butaritari\n",
      "Processing Record 10 of set 15 | dalvik\n",
      "Processing Record 11 of set 15 | la ronge\n",
      "Processing Record 12 of set 15 | balkanabat\n",
      "Processing Record 13 of set 15 | paamiut\n",
      "Processing Record 14 of set 15 | khipro\n",
      "Processing Record 15 of set 15 | karratha\n",
      "Processing Record 16 of set 15 | katsuura\n",
      "Processing Record 17 of set 15 | arman\n",
      "Processing Record 18 of set 15 | seoni\n",
      "Processing Record 19 of set 15 | touros\n",
      "Processing Record 20 of set 15 | storslett\n",
      "Processing Record 21 of set 15 | nome\n",
      "Processing Record 22 of set 15 | castro\n",
      "Processing Record 23 of set 15 | sao gabriel da cachoeira\n",
      "Processing Record 24 of set 15 | ambon\n",
      "Processing Record 25 of set 15 | cidreira\n",
      "Processing Record 26 of set 15 | bitung\n",
      "Processing Record 27 of set 15 | pacific grove\n",
      "Processing Record 28 of set 15 | verkhoyansk\n",
      "City not found. Skipping....\n",
      "Processing Record 1 of set 16 | vila franca do campo\n",
      "Processing Record 2 of set 16 | umm kaddadah\n",
      "Processing Record 3 of set 16 | lagos\n",
      "City not found. Skipping....\n",
      "Processing Record 1 of set 17 | waipawa\n",
      "Processing Record 2 of set 17 | cockburn town\n",
      "Processing Record 3 of set 17 | havelock\n",
      "Processing Record 4 of set 17 | goleta\n",
      "Processing Record 5 of set 17 | zhanaozen\n",
      "Processing Record 6 of set 17 | springbok\n",
      "Processing Record 7 of set 17 | puri\n",
      "Processing Record 8 of set 17 | sicuani\n",
      "Processing Record 9 of set 17 | asau\n",
      "Processing Record 10 of set 17 | sao jose da coroa grande\n"
     ]
    },
    {
     "name": "stdout",
     "output_type": "stream",
     "text": [
      "Processing Record 11 of set 17 | ciechocinek\n",
      "Processing Record 12 of set 17 | burla\n",
      "Processing Record 13 of set 17 | humaita\n",
      "Processing Record 14 of set 17 | ambanja\n",
      "Processing Record 15 of set 17 | borova\n",
      "City not found. Skipping....\n",
      "Processing Record 1 of set 18 | kahului\n",
      "Processing Record 2 of set 18 | ancud\n",
      "Processing Record 3 of set 18 | ahipara\n",
      "Processing Record 4 of set 18 | nsanje\n",
      "Processing Record 5 of set 18 | kulhudhuffushi\n",
      "Processing Record 6 of set 18 | bowen\n",
      "Processing Record 7 of set 18 | cherskiy\n",
      "Processing Record 8 of set 18 | fare\n",
      "Processing Record 9 of set 18 | panguna\n",
      "Processing Record 10 of set 18 | rabaul\n",
      "Processing Record 11 of set 18 | ambatondrazaka\n",
      "Processing Record 12 of set 18 | stornoway\n",
      "Processing Record 13 of set 18 | portobelo\n",
      "Processing Record 14 of set 18 | longyearbyen\n",
      "Processing Record 15 of set 18 | san quintin\n",
      "Processing Record 16 of set 18 | dunedin\n",
      "Processing Record 17 of set 18 | souillac\n",
      "Processing Record 18 of set 18 | matara\n",
      "Processing Record 19 of set 18 | kiruna\n",
      "Processing Record 20 of set 18 | margate\n",
      "Processing Record 21 of set 18 | severo-kurilsk\n",
      "Processing Record 22 of set 18 | meulaboh\n",
      "Processing Record 23 of set 18 | bambous virieux\n",
      "Processing Record 24 of set 18 | nemuro\n",
      "Processing Record 25 of set 18 | ixtapa\n",
      "Processing Record 26 of set 18 | khasan\n",
      "Processing Record 27 of set 18 | bethel\n",
      "Processing Record 28 of set 18 | caravelas\n",
      "Processing Record 29 of set 18 | comodoro rivadavia\n",
      "Processing Record 30 of set 18 | srednekolymsk\n",
      "Processing Record 31 of set 18 | klaksvik\n",
      "Processing Record 32 of set 18 | barcelos\n",
      "Processing Record 33 of set 18 | varenikovskaya\n",
      "Processing Record 34 of set 18 | lethem\n",
      "Processing Record 35 of set 18 | new norfolk\n",
      "Processing Record 36 of set 18 | katobu\n",
      "Processing Record 37 of set 18 | warri\n",
      "Processing Record 38 of set 18 | banikoara\n",
      "Processing Record 39 of set 18 | kieta\n",
      "Processing Record 40 of set 18 | morant bay\n",
      "Processing Record 41 of set 18 | dingle\n",
      "Processing Record 42 of set 18 | manggar\n",
      "Processing Record 43 of set 18 | kodiak\n",
      "Processing Record 44 of set 18 | manta\n",
      "Processing Record 45 of set 18 | askoy\n",
      "Processing Record 46 of set 18 | koumac\n",
      "Processing Record 47 of set 18 | namtsy\n",
      "Processing Record 48 of set 18 | iqaluit\n",
      "Processing Record 49 of set 18 | sinnar\n",
      "Processing Record 50 of set 18 | nuuk\n",
      "City not found. Skipping....\n",
      "Processing Record 1 of set 19 | tocopilla\n",
      "Processing Record 2 of set 19 | valls\n",
      "Processing Record 3 of set 19 | kaseda\n",
      "Processing Record 4 of set 19 | kalulushi\n",
      "Processing Record 5 of set 19 | viljoenskroon\n",
      "Processing Record 6 of set 19 | xuddur\n",
      "Processing Record 7 of set 19 | ambilobe\n",
      "Processing Record 8 of set 19 | moussoro\n",
      "Processing Record 9 of set 19 | yabrud\n",
      "City not found. Skipping....\n",
      "Processing Record 1 of set 20 | havre-saint-pierre\n",
      "Processing Record 2 of set 20 | chuy\n",
      "Processing Record 3 of set 20 | faanui\n",
      "Processing Record 4 of set 20 | mbini\n",
      "Processing Record 5 of set 20 | tual\n",
      "Processing Record 6 of set 20 | airai\n",
      "Processing Record 7 of set 20 | qurayyat\n",
      "Processing Record 8 of set 20 | tibacuy\n",
      "Processing Record 9 of set 20 | husavik\n",
      "Processing Record 10 of set 20 | barrow\n",
      "Processing Record 11 of set 20 | tera\n",
      "Processing Record 12 of set 20 | grindavik\n",
      "Processing Record 13 of set 20 | upernavik\n",
      "Processing Record 14 of set 20 | corinto\n",
      "Processing Record 15 of set 20 | luganville\n",
      "Processing Record 16 of set 20 | adilabad\n",
      "City not found. Skipping....\n",
      "Processing Record 1 of set 21 | mitsamiouli\n",
      "Processing Record 2 of set 21 | victoria\n",
      "Processing Record 3 of set 21 | kralendijk\n",
      "Processing Record 4 of set 21 | taperoa\n",
      "Processing Record 5 of set 21 | aripuana\n",
      "Processing Record 6 of set 21 | tottori\n",
      "Processing Record 7 of set 21 | saskylakh\n",
      "Processing Record 8 of set 21 | henties bay\n",
      "Processing Record 9 of set 21 | nishihara\n",
      "Processing Record 10 of set 21 | sarkand\n",
      "Processing Record 11 of set 21 | okhotsk\n",
      "Processing Record 12 of set 21 | javanrud\n",
      "Processing Record 13 of set 21 | provost\n",
      "Processing Record 14 of set 21 | tabas\n",
      "Processing Record 15 of set 21 | berdigestyakh\n",
      "Processing Record 16 of set 21 | marsabit\n",
      "Processing Record 17 of set 21 | bantry\n",
      "Processing Record 18 of set 21 | kushnarenkovo\n",
      "Processing Record 19 of set 21 | le port\n",
      "City not found. Skipping....\n",
      "Processing Record 1 of set 22 | smithers\n",
      "Processing Record 2 of set 22 | buala\n",
      "Processing Record 3 of set 22 | badhni kalan\n",
      "Processing Record 4 of set 22 | okha\n",
      "Processing Record 5 of set 22 | auki\n",
      "City not found. Skipping....\n",
      "Processing Record 1 of set 23 | kruisfontein\n",
      "Processing Record 2 of set 23 | bukoba\n",
      "Processing Record 3 of set 23 | savannah bight\n",
      "Processing Record 4 of set 23 | la rioja\n",
      "Processing Record 5 of set 23 | yaan\n",
      "Processing Record 6 of set 23 | viking\n",
      "Processing Record 7 of set 23 | acapulco\n",
      "Processing Record 8 of set 23 | korla\n",
      "Processing Record 9 of set 23 | bukachacha\n",
      "Processing Record 10 of set 23 | yashalta\n",
      "Processing Record 11 of set 23 | kapit\n",
      "Processing Record 12 of set 23 | corner brook\n",
      "Processing Record 13 of set 23 | port blair\n",
      "Processing Record 14 of set 23 | sembe\n",
      "Processing Record 15 of set 23 | noumea\n",
      "Processing Record 16 of set 23 | rindal\n",
      "Processing Record 17 of set 23 | itarema\n",
      "Processing Record 18 of set 23 | saiha\n",
      "Processing Record 19 of set 23 | abu kamal\n",
      "Processing Record 20 of set 23 | truth or consequences\n",
      "City not found. Skipping....\n",
      "Processing Record 1 of set 24 | burnie\n",
      "Processing Record 2 of set 24 | urumqi\n",
      "Processing Record 3 of set 24 | risod\n",
      "Processing Record 4 of set 24 | cavalcante\n",
      "Processing Record 5 of set 24 | coquimbo\n",
      "Processing Record 6 of set 24 | parana\n",
      "Processing Record 7 of set 24 | srbac\n",
      "City not found. Skipping....\n",
      "Processing Record 1 of set 25 | ust-koksa\n",
      "Processing Record 2 of set 25 | lorengau\n",
      "Processing Record 3 of set 25 | bodden town\n",
      "Processing Record 4 of set 25 | carlos chagas\n",
      "Processing Record 5 of set 25 | jiuquan\n",
      "Processing Record 6 of set 25 | tangzhai\n",
      "Processing Record 7 of set 25 | nanortalik\n",
      "Processing Record 8 of set 25 | rantepao\n",
      "Processing Record 9 of set 25 | monte azul\n",
      "Processing Record 10 of set 25 | shimoda\n",
      "Processing Record 11 of set 25 | lac-megantic\n",
      "Processing Record 12 of set 25 | yakima\n",
      "Processing Record 13 of set 25 | hobyo\n",
      "Processing Record 14 of set 25 | mudanjiang\n",
      "Processing Record 15 of set 25 | ketchikan\n",
      "Processing Record 16 of set 25 | talnakh\n",
      "Processing Record 17 of set 25 | christchurch\n",
      "Processing Record 18 of set 25 | mulege\n",
      "Processing Record 19 of set 25 | ilulissat\n",
      "City not found. Skipping....\n",
      "Processing Record 1 of set 26 | bulgan\n",
      "City not found. Skipping....\n",
      "Processing Record 1 of set 27 | rawlins\n",
      "City not found. Skipping....\n",
      "Processing Record 1 of set 28 | ulladulla\n",
      "City not found. Skipping....\n",
      "Processing Record 1 of set 29 | pasighat\n",
      "Processing Record 2 of set 29 | key west\n",
      "Processing Record 3 of set 29 | saint-georges\n",
      "Processing Record 4 of set 29 | broken hill\n",
      "Processing Record 5 of set 29 | hamilton\n",
      "Processing Record 6 of set 29 | praya\n",
      "Processing Record 7 of set 29 | yamada\n",
      "Processing Record 8 of set 29 | putnok\n",
      "Processing Record 9 of set 29 | hovd\n",
      "Processing Record 10 of set 29 | hay river\n",
      "Processing Record 11 of set 29 | huarmey\n",
      "Processing Record 12 of set 29 | san felipe\n",
      "Processing Record 13 of set 29 | geraldton\n",
      "Processing Record 14 of set 29 | makinsk\n",
      "Processing Record 15 of set 29 | kerman\n",
      "Processing Record 16 of set 29 | kenai\n",
      "Processing Record 17 of set 29 | hammond\n",
      "Processing Record 18 of set 29 | peace river\n",
      "Processing Record 19 of set 29 | yenisehir\n",
      "Processing Record 20 of set 29 | sydney mines\n",
      "City not found. Skipping....\n",
      "Processing Record 1 of set 30 | soto la marina\n",
      "Processing Record 2 of set 30 | saint-pierre\n",
      "Processing Record 3 of set 30 | port keats\n",
      "Processing Record 4 of set 30 | ossora\n",
      "Processing Record 5 of set 30 | wagga wagga\n",
      "City not found. Skipping....\n",
      "Processing Record 1 of set 31 | wageningen\n",
      "Processing Record 2 of set 31 | anloga\n",
      "Processing Record 3 of set 31 | calvinia\n",
      "Processing Record 4 of set 31 | sorong\n",
      "City not found. Skipping....\n",
      "Processing Record 1 of set 32 | evensk\n",
      "Processing Record 2 of set 32 | maceio\n",
      "Processing Record 3 of set 32 | pangnirtung\n",
      "Processing Record 4 of set 32 | ayabaca\n",
      "Processing Record 5 of set 32 | niquero\n"
     ]
    },
    {
     "name": "stdout",
     "output_type": "stream",
     "text": [
      "Processing Record 6 of set 32 | havoysund\n",
      "Processing Record 7 of set 32 | fortuna\n",
      "Processing Record 8 of set 32 | batagay-alyta\n",
      "Processing Record 9 of set 32 | ormara\n",
      "Processing Record 10 of set 32 | avenal\n",
      "Processing Record 11 of set 32 | hirara\n",
      "Processing Record 12 of set 32 | isangel\n",
      "Processing Record 13 of set 32 | khash\n",
      "Processing Record 14 of set 32 | alice springs\n",
      "Processing Record 15 of set 32 | cuenca\n",
      "Processing Record 16 of set 32 | vaitape\n",
      "Processing Record 17 of set 32 | sandusky\n",
      "City not found. Skipping....\n",
      "Processing Record 1 of set 33 | daru\n",
      "Processing Record 2 of set 33 | qaqortoq\n",
      "Processing Record 3 of set 33 | kavaratti\n",
      "Processing Record 4 of set 33 | saint anthony\n",
      "Processing Record 5 of set 33 | ankazobe\n",
      "Processing Record 6 of set 33 | kushmurun\n",
      "Processing Record 7 of set 33 | salym\n",
      "Processing Record 8 of set 33 | altamont\n",
      "Processing Record 9 of set 33 | gumdag\n",
      "Processing Record 10 of set 33 | moranbah\n",
      "Processing Record 11 of set 33 | olinda\n",
      "Processing Record 12 of set 33 | coihaique\n",
      "Processing Record 13 of set 33 | bull savanna\n",
      "Processing Record 14 of set 33 | sorland\n",
      "Processing Record 15 of set 33 | satipo\n",
      "City not found. Skipping....\n",
      "Processing Record 1 of set 34 | leningradskiy\n",
      "Processing Record 2 of set 34 | san patricio\n",
      "Processing Record 3 of set 34 | avera\n",
      "Processing Record 4 of set 34 | mogwase\n",
      "Processing Record 5 of set 34 | mandurah\n",
      "Processing Record 6 of set 34 | lata\n",
      "Processing Record 7 of set 34 | amla\n",
      "Processing Record 8 of set 34 | walvis bay\n",
      "City not found. Skipping....\n",
      "Processing Record 1 of set 35 | oksfjord\n",
      "Processing Record 2 of set 35 | chipinge\n",
      "Processing Record 3 of set 35 | sioux lookout\n",
      "Processing Record 4 of set 35 | durusu\n",
      "Processing Record 5 of set 35 | roald\n",
      "Processing Record 6 of set 35 | mazyr\n",
      "City not found. Skipping....\n",
      "Processing Record 1 of set 36 | westport\n",
      "Processing Record 2 of set 36 | manavadar\n",
      "Processing Record 3 of set 36 | kilinochchi\n",
      "Processing Record 4 of set 36 | shieli\n",
      "Processing Record 5 of set 36 | chapadinha\n",
      "Processing Record 6 of set 36 | celestun\n",
      "Processing Record 7 of set 36 | ayagoz\n",
      "Processing Record 8 of set 36 | aasiaat\n",
      "City not found. Skipping....\n",
      "Processing Record 1 of set 37 | yerbogachen\n",
      "Processing Record 2 of set 37 | takoradi\n",
      "Processing Record 3 of set 37 | cedral\n",
      "Processing Record 4 of set 37 | chara\n",
      "Processing Record 5 of set 37 | woodward\n",
      "Processing Record 6 of set 37 | wanning\n",
      "Processing Record 7 of set 37 | mayo\n",
      "Processing Record 8 of set 37 | ulcinj\n",
      "Processing Record 9 of set 37 | naryan-mar\n",
      "Processing Record 10 of set 37 | angoram\n",
      "Processing Record 11 of set 37 | impfondo\n",
      "Processing Record 12 of set 37 | shetpe\n",
      "Processing Record 13 of set 37 | puksoozero\n",
      "Processing Record 14 of set 37 | mehamn\n",
      "Processing Record 15 of set 37 | olutanga\n",
      "Processing Record 16 of set 37 | baykit\n",
      "Processing Record 17 of set 37 | haines junction\n",
      "Processing Record 18 of set 37 | visby\n",
      "Processing Record 19 of set 37 | rio gallegos\n",
      "Processing Record 20 of set 37 | sola\n",
      "Processing Record 21 of set 37 | wembley\n",
      "Processing Record 22 of set 37 | necochea\n",
      "Processing Record 23 of set 37 | sisimiut\n",
      "City not found. Skipping....\n",
      "Processing Record 1 of set 38 | biak\n",
      "Processing Record 2 of set 38 | nantucket\n",
      "Processing Record 3 of set 38 | rongcheng\n",
      "Processing Record 4 of set 38 | pochutla\n",
      "Processing Record 5 of set 38 | khani\n",
      "Processing Record 6 of set 38 | mount isa\n",
      "Processing Record 7 of set 38 | mantua\n",
      "Processing Record 8 of set 38 | jiaojiang\n",
      "Processing Record 9 of set 38 | zhanakorgan\n",
      "Processing Record 10 of set 38 | tecoanapa\n",
      "Processing Record 11 of set 38 | dakoro\n",
      "Processing Record 12 of set 38 | manerbio\n",
      "Processing Record 13 of set 38 | tilichiki\n",
      "Processing Record 14 of set 38 | padang\n",
      "Processing Record 15 of set 38 | labuhan\n",
      "Processing Record 16 of set 38 | egvekinot\n",
      "Processing Record 17 of set 38 | salta\n",
      "Processing Record 18 of set 38 | wagrowiec\n",
      "Processing Record 19 of set 38 | kerchevskiy\n",
      "Processing Record 20 of set 38 | bonavista\n",
      "Processing Record 21 of set 38 | livingstone\n",
      "Processing Record 22 of set 38 | atar\n",
      "Processing Record 23 of set 38 | sept-iles\n",
      "Processing Record 24 of set 38 | wichian buri\n",
      "Processing Record 25 of set 38 | moron\n",
      "Processing Record 26 of set 38 | kachug\n",
      "Processing Record 27 of set 38 | kununurra\n",
      "Processing Record 28 of set 38 | college\n",
      "Processing Record 29 of set 38 | kosa\n",
      "Processing Record 30 of set 38 | lazaro cardenas\n",
      "Processing Record 31 of set 38 | omboue\n",
      "Processing Record 32 of set 38 | nabire\n",
      "Processing Record 33 of set 38 | faya\n",
      "Processing Record 34 of set 38 | mount gambier\n",
      "Processing Record 35 of set 38 | magan\n",
      "Processing Record 36 of set 38 | tokmak\n",
      "Processing Record 37 of set 38 | svetlyy\n",
      "Processing Record 38 of set 38 | itupiranga\n",
      "City not found. Skipping....\n",
      "Processing Record 1 of set 39 | ofunato\n",
      "Processing Record 2 of set 39 | makow mazowiecki\n",
      "Processing Record 3 of set 39 | kaputa\n",
      "Processing Record 4 of set 39 | vestmannaeyjar\n",
      "Processing Record 5 of set 39 | arroio do meio\n",
      "Processing Record 6 of set 39 | kudahuvadhoo\n",
      "Processing Record 7 of set 39 | axim\n",
      "Processing Record 8 of set 39 | carauari\n",
      "City not found. Skipping....\n",
      "Processing Record 1 of set 40 | matagami\n",
      "Processing Record 2 of set 40 | dimbokro\n",
      "Processing Record 3 of set 40 | taksimo\n",
      "Processing Record 4 of set 40 | sistranda\n",
      "Processing Record 5 of set 40 | kiunga\n",
      "Processing Record 6 of set 40 | hami\n",
      "Processing Record 7 of set 40 | lincoln\n",
      "Processing Record 8 of set 40 | preston\n",
      "Processing Record 9 of set 40 | ukiah\n",
      "Processing Record 10 of set 40 | kalashnikovo\n",
      "Processing Record 11 of set 40 | dwarka\n",
      "Processing Record 12 of set 40 | tabou\n",
      "Processing Record 13 of set 40 | tomatlan\n",
      "Processing Record 14 of set 40 | nouadhibou\n",
      "Processing Record 15 of set 40 | saint-tite\n",
      "Processing Record 16 of set 40 | general roca\n",
      "Processing Record 17 of set 40 | coruripe\n",
      "Processing Record 18 of set 40 | haskovo\n",
      "City not found. Skipping....\n",
      "Processing Record 1 of set 41 | sitka\n",
      "Processing Record 2 of set 41 | bubaque\n",
      "Processing Record 3 of set 41 | santa cruz de la palma\n",
      "City not found. Skipping....\n",
      "City not found. Skipping....\n",
      "Processing Record 1 of set 43 | kloulklubed\n",
      "Processing Record 2 of set 43 | haapiti\n",
      "Processing Record 3 of set 43 | tazovskiy\n",
      "Processing Record 4 of set 43 | lasa\n",
      "Processing Record 5 of set 43 | ovalle\n",
      "Processing Record 6 of set 43 | storforshei\n",
      "Processing Record 7 of set 43 | ojinaga\n",
      "Processing Record 8 of set 43 | mackay\n",
      "Processing Record 9 of set 43 | bontang\n",
      "Processing Record 10 of set 43 | pringsewu\n",
      "Processing Record 11 of set 43 | prosvet\n",
      "Processing Record 12 of set 43 | namibe\n",
      "Processing Record 13 of set 43 | harwich\n",
      "Processing Record 14 of set 43 | churapcha\n",
      "Processing Record 15 of set 43 | mandiana\n",
      "Processing Record 16 of set 43 | revelstoke\n",
      "Processing Record 17 of set 43 | pekin\n",
      "Processing Record 18 of set 43 | la palma\n",
      "Processing Record 19 of set 43 | brooks\n",
      "Processing Record 20 of set 43 | akdepe\n",
      "Processing Record 21 of set 43 | constitucion\n",
      "City not found. Skipping....\n",
      "Processing Record 1 of set 44 | saint simons\n",
      "City not found. Skipping....\n",
      "Processing Record 1 of set 45 | leczna\n",
      "Processing Record 2 of set 45 | matsuura\n",
      "Processing Record 3 of set 45 | camacha\n",
      "Processing Record 4 of set 45 | sinnamary\n",
      "Processing Record 5 of set 45 | kalmunai\n",
      "Processing Record 6 of set 45 | lompoc\n",
      "City not found. Skipping....\n",
      "Processing Record 1 of set 46 | kathu\n",
      "Processing Record 2 of set 46 | jalpaiguri\n",
      "City not found. Skipping....\n",
      "Processing Record 1 of set 47 | lappersdorf\n",
      "Processing Record 2 of set 47 | tongliao\n",
      "Processing Record 3 of set 47 | novoorsk\n",
      "Processing Record 4 of set 47 | kargil\n",
      "Processing Record 5 of set 47 | te anau\n",
      "Processing Record 6 of set 47 | tarime\n",
      "Processing Record 7 of set 47 | braco do norte\n",
      "Processing Record 8 of set 47 | maldonado\n",
      "Processing Record 9 of set 47 | kavieng\n",
      "Processing Record 10 of set 47 | cabedelo\n",
      "Processing Record 11 of set 47 | antofagasta\n",
      "Processing Record 12 of set 47 | port antonio\n",
      "Processing Record 13 of set 47 | mentougou\n",
      "Processing Record 14 of set 47 | zhigansk\n",
      "Processing Record 15 of set 47 | ustka\n",
      "Processing Record 16 of set 47 | bantogon\n",
      "Processing Record 17 of set 47 | itoman\n",
      "Processing Record 18 of set 47 | erzin\n",
      "Processing Record 19 of set 47 | manzanillo\n"
     ]
    },
    {
     "name": "stdout",
     "output_type": "stream",
     "text": [
      "Processing Record 20 of set 47 | prado\n",
      "Processing Record 21 of set 47 | ligayan\n",
      "Processing Record 22 of set 47 | san cristobal\n",
      "Processing Record 23 of set 47 | presidencia roque saenz pena\n",
      "Processing Record 24 of set 47 | djougou\n",
      "Processing Record 25 of set 47 | bathsheba\n",
      "Processing Record 26 of set 47 | zigong\n",
      "Processing Record 27 of set 47 | lebanon\n",
      "Processing Record 28 of set 47 | khorixas\n",
      "Processing Record 29 of set 47 | ylivieska\n",
      "Processing Record 30 of set 47 | kiboga\n",
      "City not found. Skipping....\n",
      "Processing Record 1 of set 48 | marsa matruh\n",
      "Processing Record 2 of set 48 | nanaimo\n",
      "Processing Record 3 of set 48 | gbarnga\n",
      "Processing Record 4 of set 48 | cartagena del chaira\n",
      "Processing Record 5 of set 48 | udachnyy\n",
      "Processing Record 6 of set 48 | turukhansk\n",
      "Processing Record 7 of set 48 | iseyin\n",
      "Processing Record 8 of set 48 | tautira\n",
      "----------------------------- Data Retrieval Complete -----------------------------\n"
     ]
    }
   ],
   "source": [
    "# params dictionary to update each iteration\n",
    "params = {\n",
    "    \"appid\": weather_api_key,\n",
    "    \"units\": \"metric\"\n",
    "}\n",
    "\n",
    "# Add columns for lat, lng, Max Temp, Humidity, Cloudiness, Wind Speed, Country, Date\n",
    "cities_df[\"Lat\"] = \"\"\n",
    "cities_df[\"Lng\"] = \"\"\n",
    "cities_df[\"Max Temp\"] = \"\"\n",
    "cities_df[\"Humidity\"] = \"\"\n",
    "cities_df[\"Cloudiness\"] = \"\"\n",
    "cities_df[\"Wind Speed\"] = \"\"\n",
    "cities_df[\"Country\"] = \"\"\n",
    "cities_df[\"Date\"] = \"\"\n",
    "\n",
    "# counters to keep track of record number per set\n",
    "record_no = 1\n",
    "set_no = 1\n",
    "\n",
    "\n",
    "print(\"Beginning Data Retrieval\")\n",
    "print(\"------------------------------\")\n",
    "\n",
    "\n",
    "# Use the city name to identify lat, lng, Max Temp, Humidity, Cloudiness, Wind Speed, Country, Date\n",
    "for index, row in cities_df.iterrows():\n",
    "    \n",
    "    # get city from dataframe\n",
    "    city = row[\"City\"]\n",
    "\n",
    "    # change location each iteration while leaving original params in place\n",
    "    params[\"q\"] = f\"{city}\"\n",
    "\n",
    "    # Use the units term to return metric data for each city\n",
    "    base_url = \"https://api.openweathermap.org/data/2.5/weather?\"\n",
    "\n",
    "    # make request and convert to json\n",
    "    city_detail = requests.get(base_url, params=params).json()\n",
    "\n",
    "    # Since some data may be missing we incorporate a try-except to skip any that are missing a data point.\n",
    "    try:\n",
    "        \n",
    "        # Adding collected data to cities dataframe\n",
    "        cities_df.loc[index, \"Lat\"] = city_detail['coord']['lat']\n",
    "        cities_df.loc[index, \"Lng\"] = city_detail[\"coord\"][\"lon\"]\n",
    "        cities_df.loc[index, \"Max Temp\"] = city_detail[\"main\"][\"temp_max\"]\n",
    "        cities_df.loc[index, \"Humidity\"] = city_detail[\"main\"][\"humidity\"]\n",
    "        cities_df.loc[index, \"Cloudiness\"] = city_detail[\"clouds\"][\"all\"]\n",
    "        cities_df.loc[index, \"Wind Speed\"] = city_detail[\"wind\"][\"speed\"]\n",
    "        cities_df.loc[index, \"Country\"] = city_detail[\"sys\"][\"country\"]\n",
    "        cities_df.loc[index, \"Date\"] = city_detail[\"dt\"]\n",
    "        \n",
    "        # Print Record\n",
    "        print(f\"Processing Record {record_no} of set {set_no} | {city}\")\n",
    "        \n",
    "        # Add to record counter\n",
    "        record_no += 1\n",
    "    \n",
    "    # Add except \n",
    "    except (KeyError, IndexError):\n",
    "        print(\"City not found. Skipping....\")\n",
    "        \n",
    "        # Drop city if not found\n",
    "        cities_df.drop(index, inplace=True)\n",
    "        \n",
    "        # Reset record counter\n",
    "        record_no = 1\n",
    "        \n",
    "        # Add to set counter\n",
    "        set_no += 1\n",
    "print(\"----------------------------- Data Retrieval Complete -----------------------------\")\n",
    "\n",
    "# Reset index\n",
    "cities_df.reset_index(drop=True, inplace=True)"
   ]
  },
  {
   "cell_type": "markdown",
   "metadata": {},
   "source": [
    "### Convert Raw Data to DataFrame\n",
    "* Export the city data into a .csv.\n",
    "* Display the DataFrame"
   ]
  },
  {
   "cell_type": "code",
   "execution_count": 6,
   "metadata": {},
   "outputs": [
    {
     "data": {
      "text/html": [
       "<div>\n",
       "<style scoped>\n",
       "    .dataframe tbody tr th:only-of-type {\n",
       "        vertical-align: middle;\n",
       "    }\n",
       "\n",
       "    .dataframe tbody tr th {\n",
       "        vertical-align: top;\n",
       "    }\n",
       "\n",
       "    .dataframe thead th {\n",
       "        text-align: right;\n",
       "    }\n",
       "</style>\n",
       "<table border=\"1\" class=\"dataframe\">\n",
       "  <thead>\n",
       "    <tr style=\"text-align: right;\">\n",
       "      <th></th>\n",
       "      <th>City</th>\n",
       "      <th>Lat</th>\n",
       "      <th>Lng</th>\n",
       "      <th>Max Temp</th>\n",
       "      <th>Humidity</th>\n",
       "      <th>Cloudiness</th>\n",
       "      <th>Wind Speed</th>\n",
       "      <th>Country</th>\n",
       "      <th>Date</th>\n",
       "    </tr>\n",
       "  </thead>\n",
       "  <tbody>\n",
       "    <tr>\n",
       "      <th>0</th>\n",
       "      <td>vila velha</td>\n",
       "      <td>-20.3297</td>\n",
       "      <td>-40.2925</td>\n",
       "      <td>21.97</td>\n",
       "      <td>80</td>\n",
       "      <td>0</td>\n",
       "      <td>6.17</td>\n",
       "      <td>BR</td>\n",
       "      <td>1662795207</td>\n",
       "    </tr>\n",
       "    <tr>\n",
       "      <th>1</th>\n",
       "      <td>ribeira grande</td>\n",
       "      <td>38.5167</td>\n",
       "      <td>-28.7</td>\n",
       "      <td>23.22</td>\n",
       "      <td>78</td>\n",
       "      <td>40</td>\n",
       "      <td>10.29</td>\n",
       "      <td>PT</td>\n",
       "      <td>1662795208</td>\n",
       "    </tr>\n",
       "    <tr>\n",
       "      <th>2</th>\n",
       "      <td>mar del plata</td>\n",
       "      <td>-38.0023</td>\n",
       "      <td>-57.5575</td>\n",
       "      <td>4.41</td>\n",
       "      <td>87</td>\n",
       "      <td>0</td>\n",
       "      <td>5.36</td>\n",
       "      <td>AR</td>\n",
       "      <td>1662795209</td>\n",
       "    </tr>\n",
       "    <tr>\n",
       "      <th>3</th>\n",
       "      <td>thompson</td>\n",
       "      <td>55.7435</td>\n",
       "      <td>-97.8558</td>\n",
       "      <td>8.09</td>\n",
       "      <td>93</td>\n",
       "      <td>75</td>\n",
       "      <td>3.09</td>\n",
       "      <td>CA</td>\n",
       "      <td>1662795211</td>\n",
       "    </tr>\n",
       "    <tr>\n",
       "      <th>4</th>\n",
       "      <td>sao joao da barra</td>\n",
       "      <td>-21.6403</td>\n",
       "      <td>-41.0511</td>\n",
       "      <td>20.06</td>\n",
       "      <td>82</td>\n",
       "      <td>0</td>\n",
       "      <td>6.68</td>\n",
       "      <td>BR</td>\n",
       "      <td>1662795212</td>\n",
       "    </tr>\n",
       "  </tbody>\n",
       "</table>\n",
       "</div>"
      ],
      "text/plain": [
       "                City      Lat      Lng Max Temp Humidity Cloudiness  \\\n",
       "0         vila velha -20.3297 -40.2925    21.97       80          0   \n",
       "1     ribeira grande  38.5167    -28.7    23.22       78         40   \n",
       "2      mar del plata -38.0023 -57.5575     4.41       87          0   \n",
       "3           thompson  55.7435 -97.8558     8.09       93         75   \n",
       "4  sao joao da barra -21.6403 -41.0511    20.06       82          0   \n",
       "\n",
       "  Wind Speed Country        Date  \n",
       "0       6.17      BR  1662795207  \n",
       "1      10.29      PT  1662795208  \n",
       "2       5.36      AR  1662795209  \n",
       "3       3.09      CA  1662795211  \n",
       "4       6.68      BR  1662795212  "
      ]
     },
     "execution_count": 6,
     "metadata": {},
     "output_type": "execute_result"
    }
   ],
   "source": [
    "# Export the city data into a .csv.\n",
    "cities_df.to_csv(output_data_file)  \n",
    "\n",
    "# Display the DataFrame\n",
    "cities_df.head()"
   ]
  },
  {
   "cell_type": "code",
   "execution_count": 7,
   "metadata": {},
   "outputs": [
    {
     "data": {
      "text/html": [
       "<div>\n",
       "<style scoped>\n",
       "    .dataframe tbody tr th:only-of-type {\n",
       "        vertical-align: middle;\n",
       "    }\n",
       "\n",
       "    .dataframe tbody tr th {\n",
       "        vertical-align: top;\n",
       "    }\n",
       "\n",
       "    .dataframe thead th {\n",
       "        text-align: right;\n",
       "    }\n",
       "</style>\n",
       "<table border=\"1\" class=\"dataframe\">\n",
       "  <thead>\n",
       "    <tr style=\"text-align: right;\">\n",
       "      <th></th>\n",
       "      <th>Lat</th>\n",
       "      <th>Lng</th>\n",
       "      <th>Max Temp</th>\n",
       "      <th>Humidity</th>\n",
       "      <th>Cloudiness</th>\n",
       "      <th>Wind Speed</th>\n",
       "      <th>Date</th>\n",
       "    </tr>\n",
       "  </thead>\n",
       "  <tbody>\n",
       "    <tr>\n",
       "      <th>count</th>\n",
       "      <td>580.000000</td>\n",
       "      <td>580.000000</td>\n",
       "      <td>580.000000</td>\n",
       "      <td>580.000000</td>\n",
       "      <td>580.000000</td>\n",
       "      <td>580.00000</td>\n",
       "      <td>5.800000e+02</td>\n",
       "    </tr>\n",
       "    <tr>\n",
       "      <th>mean</th>\n",
       "      <td>20.286854</td>\n",
       "      <td>17.230707</td>\n",
       "      <td>19.352759</td>\n",
       "      <td>70.701724</td>\n",
       "      <td>53.655172</td>\n",
       "      <td>3.57269</td>\n",
       "      <td>1.662795e+09</td>\n",
       "    </tr>\n",
       "    <tr>\n",
       "      <th>std</th>\n",
       "      <td>33.626162</td>\n",
       "      <td>90.988893</td>\n",
       "      <td>8.695940</td>\n",
       "      <td>22.001389</td>\n",
       "      <td>41.324844</td>\n",
       "      <td>2.44495</td>\n",
       "      <td>1.471519e+02</td>\n",
       "    </tr>\n",
       "    <tr>\n",
       "      <th>min</th>\n",
       "      <td>-54.800000</td>\n",
       "      <td>-179.166700</td>\n",
       "      <td>-1.460000</td>\n",
       "      <td>2.000000</td>\n",
       "      <td>0.000000</td>\n",
       "      <td>0.00000</td>\n",
       "      <td>1.662795e+09</td>\n",
       "    </tr>\n",
       "    <tr>\n",
       "      <th>25%</th>\n",
       "      <td>-6.908575</td>\n",
       "      <td>-64.051875</td>\n",
       "      <td>11.415000</td>\n",
       "      <td>61.000000</td>\n",
       "      <td>7.000000</td>\n",
       "      <td>1.79000</td>\n",
       "      <td>1.662795e+09</td>\n",
       "    </tr>\n",
       "    <tr>\n",
       "      <th>50%</th>\n",
       "      <td>22.384400</td>\n",
       "      <td>20.087500</td>\n",
       "      <td>21.330000</td>\n",
       "      <td>77.000000</td>\n",
       "      <td>61.500000</td>\n",
       "      <td>3.08500</td>\n",
       "      <td>1.662795e+09</td>\n",
       "    </tr>\n",
       "    <tr>\n",
       "      <th>75%</th>\n",
       "      <td>49.862575</td>\n",
       "      <td>100.340125</td>\n",
       "      <td>26.295000</td>\n",
       "      <td>86.000000</td>\n",
       "      <td>100.000000</td>\n",
       "      <td>4.77250</td>\n",
       "      <td>1.662796e+09</td>\n",
       "    </tr>\n",
       "    <tr>\n",
       "      <th>max</th>\n",
       "      <td>78.218600</td>\n",
       "      <td>179.316700</td>\n",
       "      <td>40.390000</td>\n",
       "      <td>100.000000</td>\n",
       "      <td>100.000000</td>\n",
       "      <td>12.68000</td>\n",
       "      <td>1.662796e+09</td>\n",
       "    </tr>\n",
       "  </tbody>\n",
       "</table>\n",
       "</div>"
      ],
      "text/plain": [
       "              Lat         Lng    Max Temp    Humidity  Cloudiness  Wind Speed  \\\n",
       "count  580.000000  580.000000  580.000000  580.000000  580.000000   580.00000   \n",
       "mean    20.286854   17.230707   19.352759   70.701724   53.655172     3.57269   \n",
       "std     33.626162   90.988893    8.695940   22.001389   41.324844     2.44495   \n",
       "min    -54.800000 -179.166700   -1.460000    2.000000    0.000000     0.00000   \n",
       "25%     -6.908575  -64.051875   11.415000   61.000000    7.000000     1.79000   \n",
       "50%     22.384400   20.087500   21.330000   77.000000   61.500000     3.08500   \n",
       "75%     49.862575  100.340125   26.295000   86.000000  100.000000     4.77250   \n",
       "max     78.218600  179.316700   40.390000  100.000000  100.000000    12.68000   \n",
       "\n",
       "               Date  \n",
       "count  5.800000e+02  \n",
       "mean   1.662795e+09  \n",
       "std    1.471519e+02  \n",
       "min    1.662795e+09  \n",
       "25%    1.662795e+09  \n",
       "50%    1.662795e+09  \n",
       "75%    1.662796e+09  \n",
       "max    1.662796e+09  "
      ]
     },
     "execution_count": 7,
     "metadata": {},
     "output_type": "execute_result"
    }
   ],
   "source": [
    "# Convert columns to float or int types\n",
    "cities_df[cities_df.columns[1:4]] = cities_df.iloc[:, 1:4].astype('float64')\n",
    "cities_df[cities_df.columns[4:6]] = cities_df.iloc[:, 4:6].astype('int64')\n",
    "cities_df[cities_df.columns[6:7]] = cities_df.iloc[:, 6:7].astype('float64')\n",
    "cities_df[cities_df.columns[8:9]] = cities_df.iloc[:, 8:9].astype('int64')\n",
    "\n",
    "# Display basic overview of the data\n",
    "cities_df.describe()"
   ]
  },
  {
   "cell_type": "markdown",
   "metadata": {},
   "source": [
    "## Inspect the data and remove the cities where the humidity > 100%.\n",
    "----\n",
    "Skip this step if there are no cities that have humidity > 100%. "
   ]
  },
  {
   "cell_type": "code",
   "execution_count": 8,
   "metadata": {},
   "outputs": [
    {
     "name": "stdout",
     "output_type": "stream",
     "text": [
      "[]\n"
     ]
    }
   ],
   "source": [
    "#  Get the indices of cities that have humidity over 100%.\n",
    "over_100 = cities_df.index[cities_df[\"Humidity\"] > 100].tolist()\n",
    "print(over_100)"
   ]
  },
  {
   "cell_type": "code",
   "execution_count": 9,
   "metadata": {},
   "outputs": [
    {
     "data": {
      "text/html": [
       "<div>\n",
       "<style scoped>\n",
       "    .dataframe tbody tr th:only-of-type {\n",
       "        vertical-align: middle;\n",
       "    }\n",
       "\n",
       "    .dataframe tbody tr th {\n",
       "        vertical-align: top;\n",
       "    }\n",
       "\n",
       "    .dataframe thead th {\n",
       "        text-align: right;\n",
       "    }\n",
       "</style>\n",
       "<table border=\"1\" class=\"dataframe\">\n",
       "  <thead>\n",
       "    <tr style=\"text-align: right;\">\n",
       "      <th></th>\n",
       "      <th>City</th>\n",
       "      <th>Lat</th>\n",
       "      <th>Lng</th>\n",
       "      <th>Max Temp</th>\n",
       "      <th>Humidity</th>\n",
       "      <th>Cloudiness</th>\n",
       "      <th>Wind Speed</th>\n",
       "      <th>Country</th>\n",
       "      <th>Date</th>\n",
       "    </tr>\n",
       "  </thead>\n",
       "  <tbody>\n",
       "    <tr>\n",
       "      <th>0</th>\n",
       "      <td>vila velha</td>\n",
       "      <td>-20.3297</td>\n",
       "      <td>-40.2925</td>\n",
       "      <td>21.97</td>\n",
       "      <td>80</td>\n",
       "      <td>0</td>\n",
       "      <td>6.17</td>\n",
       "      <td>BR</td>\n",
       "      <td>1662795207</td>\n",
       "    </tr>\n",
       "    <tr>\n",
       "      <th>1</th>\n",
       "      <td>ribeira grande</td>\n",
       "      <td>38.5167</td>\n",
       "      <td>-28.7000</td>\n",
       "      <td>23.22</td>\n",
       "      <td>78</td>\n",
       "      <td>40</td>\n",
       "      <td>10.29</td>\n",
       "      <td>PT</td>\n",
       "      <td>1662795208</td>\n",
       "    </tr>\n",
       "    <tr>\n",
       "      <th>2</th>\n",
       "      <td>mar del plata</td>\n",
       "      <td>-38.0023</td>\n",
       "      <td>-57.5575</td>\n",
       "      <td>4.41</td>\n",
       "      <td>87</td>\n",
       "      <td>0</td>\n",
       "      <td>5.36</td>\n",
       "      <td>AR</td>\n",
       "      <td>1662795209</td>\n",
       "    </tr>\n",
       "    <tr>\n",
       "      <th>3</th>\n",
       "      <td>thompson</td>\n",
       "      <td>55.7435</td>\n",
       "      <td>-97.8558</td>\n",
       "      <td>8.09</td>\n",
       "      <td>93</td>\n",
       "      <td>75</td>\n",
       "      <td>3.09</td>\n",
       "      <td>CA</td>\n",
       "      <td>1662795211</td>\n",
       "    </tr>\n",
       "    <tr>\n",
       "      <th>4</th>\n",
       "      <td>sao joao da barra</td>\n",
       "      <td>-21.6403</td>\n",
       "      <td>-41.0511</td>\n",
       "      <td>20.06</td>\n",
       "      <td>82</td>\n",
       "      <td>0</td>\n",
       "      <td>6.68</td>\n",
       "      <td>BR</td>\n",
       "      <td>1662795212</td>\n",
       "    </tr>\n",
       "  </tbody>\n",
       "</table>\n",
       "</div>"
      ],
      "text/plain": [
       "                City      Lat      Lng  Max Temp  Humidity  Cloudiness  \\\n",
       "0         vila velha -20.3297 -40.2925     21.97        80           0   \n",
       "1     ribeira grande  38.5167 -28.7000     23.22        78          40   \n",
       "2      mar del plata -38.0023 -57.5575      4.41        87           0   \n",
       "3           thompson  55.7435 -97.8558      8.09        93          75   \n",
       "4  sao joao da barra -21.6403 -41.0511     20.06        82           0   \n",
       "\n",
       "   Wind Speed Country        Date  \n",
       "0        6.17      BR  1662795207  \n",
       "1       10.29      PT  1662795208  \n",
       "2        5.36      AR  1662795209  \n",
       "3        3.09      CA  1662795211  \n",
       "4        6.68      BR  1662795212  "
      ]
     },
     "execution_count": 9,
     "metadata": {},
     "output_type": "execute_result"
    }
   ],
   "source": [
    "# Make a new DataFrame equal to the city data to drop all humidity cities with over 100%\n",
    "clean_cities_df = cities_df.drop(index = over_100, inplace=False)\n",
    "\n",
    "# Reset index\n",
    "clean_cities_df.reset_index(drop=True, inplace=True)\n",
    "\n",
    "# Display the DataFrame\n",
    "clean_cities_df.head()"
   ]
  },
  {
   "cell_type": "markdown",
   "metadata": {},
   "source": [
    "## Plotting the Data\n",
    "* Use proper labelling of the plots using plot titles (including date of analysis) and axes labels.\n",
    "* Save the plotted figures as .pngs."
   ]
  },
  {
   "cell_type": "code",
   "execution_count": 10,
   "metadata": {},
   "outputs": [],
   "source": [
    "# Setup vairable to be used accross all plots\n",
    "lat = clean_cities_df[\"Lat\"]\n",
    "\n",
    "# Add todays dat and format to DD/MM/YYY\n",
    "today = date.today()\n",
    "date = today.strftime(\"%d/%m/%Y\")"
   ]
  },
  {
   "cell_type": "markdown",
   "metadata": {},
   "source": [
    "## Latitude vs. Temperature Plot"
   ]
  },
  {
   "cell_type": "code",
   "execution_count": 11,
   "metadata": {
    "scrolled": true
   },
   "outputs": [
    {
     "data": {
      "image/png": "[encoded data removed]",
      "text/plain": [
       "<Figure size 432x288 with 1 Axes>"
      ]
     },
     "metadata": {
      "needs_background": "light"
     },
     "output_type": "display_data"
    }
   ],
   "source": [
    "# Setup vairable\n",
    "temperature = clean_cities_df['Max Temp']\n",
    "\n",
    "# Creat scatter plot\n",
    "plt.scatter(lat,temperature, marker=\"o\", facecolors=\"red\", edgecolors=\"black\")\n",
    "\n",
    "# Add labels, title and grid\n",
    "plt.xlabel(\"Latitude\")\n",
    "plt.ylabel(\"Max Temperature (C)\")\n",
    "plt.title(f\"City Latitude vs Max Temperature ({date})\")\n",
    "plt.grid()\n",
    "\n",
    "# Saving to png\n",
    "plt.savefig(\"Images/WeatherPy/Latitude_vs_Temperature_Plot.png\")\n",
    "\n",
    "# Display grid\n",
    "plt.show()"
   ]
  },
  {
   "cell_type": "markdown",
   "metadata": {},
   "source": [
    "With the plot above we are trying analyse if there is a relationship between the city latitude and the maximim temperature in that city."
   ]
  },
  {
   "cell_type": "markdown",
   "metadata": {},
   "source": [
    "## Latitude vs. Humidity Plot"
   ]
  },
  {
   "cell_type": "code",
   "execution_count": 12,
   "metadata": {},
   "outputs": [
    {
     "data": {
      "image/png": "[encoded data removed]",
      "text/plain": [
       "<Figure size 432x288 with 1 Axes>"
      ]
     },
     "metadata": {
      "needs_background": "light"
     },
     "output_type": "display_data"
    }
   ],
   "source": [
    "# Setup vairable\n",
    "humidity = clean_cities_df['Humidity']\n",
    "\n",
    "# Creat scatter plot\n",
    "plt.scatter(lat,humidity, marker=\"o\", facecolors=\"red\", edgecolors=\"black\")\n",
    "\n",
    "# Add labels, title and grid\n",
    "plt.xlabel(\"Latitude\")\n",
    "plt.ylabel(\"Humidity (%)\")\n",
    "plt.title(f\"City Latitude vs Humidity ({date})\")\n",
    "plt.grid()\n",
    "\n",
    "# Saving to png\n",
    "plt.savefig(\"Images/WeatherPy/Latitude_vs_Humidity_Plot.png\")\n",
    "\n",
    "# Display grid\n",
    "plt.show()"
   ]
  },
  {
   "cell_type": "markdown",
   "metadata": {},
   "source": [
    "With the plot above we are trying analyse if there is a relationship between the city latitude and the humidity in that city."
   ]
  },
  {
   "cell_type": "markdown",
   "metadata": {},
   "source": [
    "## Latitude vs. Cloudiness Plot"
   ]
  },
  {
   "cell_type": "code",
   "execution_count": 13,
   "metadata": {},
   "outputs": [
    {
     "data": {
      "image/png": "[encoded data removed]",
      "text/plain": [
       "<Figure size 432x288 with 1 Axes>"
      ]
     },
     "metadata": {
      "needs_background": "light"
     },
     "output_type": "display_data"
    }
   ],
   "source": [
    "# Setup vairable\n",
    "cloudiness = clean_cities_df['Cloudiness']\n",
    "\n",
    "# Creat scatter plot\n",
    "plt.scatter(lat,cloudiness, marker=\"o\", facecolors=\"red\", edgecolors=\"black\")\n",
    "\n",
    "# Add labels, title and grid\n",
    "plt.xlabel(\"Latitude\")\n",
    "plt.ylabel(\"Cloudiness (%)\")\n",
    "plt.title(f\"City Latitude vs Cloudiness ({date})\")\n",
    "plt.grid()\n",
    "\n",
    "# Saving to png\n",
    "plt.savefig(\"Images/WeatherPy/Latitude_vs_Cloudiness_Plot.png\")\n",
    "\n",
    "# Display grid\n",
    "plt.show()"
   ]
  },
  {
   "cell_type": "markdown",
   "metadata": {},
   "source": [
    "With the plot above we are trying analyse if there is a relationship between the city latitude and the cloudiness in that city."
   ]
  },
  {
   "cell_type": "markdown",
   "metadata": {},
   "source": [
    "## Latitude vs. Wind Speed Plot"
   ]
  },
  {
   "cell_type": "code",
   "execution_count": 14,
   "metadata": {},
   "outputs": [
    {
     "data": {
      "image/png": "[encoded data removed]",
      "text/plain": [
       "<Figure size 432x288 with 1 Axes>"
      ]
     },
     "metadata": {
      "needs_background": "light"
     },
     "output_type": "display_data"
    }
   ],
   "source": [
    "# Setup vairable\n",
    "wind_speed = clean_cities_df['Wind Speed']\n",
    "\n",
    "# Creat scatter plot\n",
    "plt.scatter(lat,wind_speed, marker=\"o\", facecolors=\"red\", edgecolors=\"black\")\n",
    "\n",
    "# Add labels, title and grid\n",
    "plt.xlabel(\"Latitude\")\n",
    "plt.ylabel(\"Wind Speed (m/s)\")\n",
    "plt.title(f\"City Latitude vs Wind Speed ({date})\")\n",
    "plt.grid()\n",
    "\n",
    "# Saving to png\n",
    "plt.savefig(\"Images/WeatherPy/Latitude_vs_Wind_Speed_Plot.png\")\n",
    "\n",
    "# Display grid\n",
    "plt.show()"
   ]
  },
  {
   "cell_type": "raw",
   "metadata": {},
   "source": [
    "With the plot above we are trying analyse if there is a relationship between the city latitude and the wind speed in that city."
   ]
  },
  {
   "cell_type": "markdown",
   "metadata": {},
   "source": [
    "## Linear Regression"
   ]
  },
  {
   "cell_type": "code",
   "execution_count": 15,
   "metadata": {},
   "outputs": [],
   "source": [
    "# create seperate dataframes split into southern and northen hemispheres\n",
    "north_hem_clean_cities_df = clean_cities_df.loc[clean_cities_df[\"Lat\"] >= 0]\n",
    "south_hem_clean_cities_df = clean_cities_df.loc[clean_cities_df[\"Lat\"] < 0]"
   ]
  },
  {
   "cell_type": "code",
   "execution_count": 16,
   "metadata": {},
   "outputs": [],
   "source": [
    "# Setup vairable to be used accross all plots\n",
    "north_lat = north_hem_clean_cities_df[\"Lat\"]\n",
    "south_lat = south_hem_clean_cities_df[\"Lat\"]"
   ]
  },
  {
   "cell_type": "markdown",
   "metadata": {},
   "source": [
    "###  Max Temp vs. Latitude Linear Regression"
   ]
  },
  {
   "cell_type": "markdown",
   "metadata": {},
   "source": [
    "####  Northern Hemisphere - Max Temp vs. Latitude Linear Regression"
   ]
  },
  {
   "cell_type": "code",
   "execution_count": 27,
   "metadata": {},
   "outputs": [
    {
     "name": "stdout",
     "output_type": "stream",
     "text": [
      "The r-squared is: 0.6533826902712359\n"
     ]
    },
    {
     "data": {
      "image/png": "[encoded data removed]",
      "text/plain": [
       "<Figure size 432x288 with 1 Axes>"
      ]
     },
     "metadata": {
      "needs_background": "light"
     },
     "output_type": "display_data"
    }
   ],
   "source": [
    "# Set variables for plotting\n",
    "y_values = north_hem_clean_cities_df[\"Max Temp\"]\n",
    "x_values = north_lat\n",
    "\n",
    "# Calculate and assign variables for lingress\n",
    "(slope, intercept, rvalue, pvalue, stderr) = linregress(x_values, y_values)\n",
    "regress_values = x_values * slope + intercept\n",
    "\n",
    "# create equation string\n",
    "line_eq = \"y = \" + str(round(slope,2)) + \"x + \" + str(round(intercept,2))\n",
    "\n",
    "# Create scatter plot\n",
    "plt.scatter(x_values,y_values, marker=\"o\", facecolors=\"red\", edgecolors=\"black\")\n",
    "plt.plot(x_values,regress_values,\"r-\")\n",
    "\n",
    "# Plot equation string\n",
    "plt.annotate(line_eq,(5.8,8),fontsize=15,color=\"blue\")\n",
    "\n",
    "# Add labels\n",
    "plt.xlabel(\"Latitude\")\n",
    "plt.ylabel(\"Max Temp\")\n",
    "\n",
    "# Print r-squared value\n",
    "print(f\"The r-squared is: {rvalue**2}\")\n",
    "\n",
    "# Saving to png\n",
    "plt.savefig(\"Images/WeatherPy/Northen_Hemisphere_Latitude_vs_Max_Temp_Plot.png\")\n",
    "\n",
    "plt.show()"
   ]
  },
  {
   "cell_type": "markdown",
   "metadata": {},
   "source": [
    "## Enter findings here"
   ]
  },
  {
   "cell_type": "markdown",
   "metadata": {},
   "source": [
    "####  Southern Hemisphere - Max Temp vs. Latitude Linear Regression"
   ]
  },
  {
   "cell_type": "code",
   "execution_count": 28,
   "metadata": {},
   "outputs": [
    {
     "name": "stdout",
     "output_type": "stream",
     "text": [
      "The r-squared is: 0.502657889628127\n"
     ]
    },
    {
     "data": {
      "image/png": "[encoded data removed]",
      "text/plain": [
       "<Figure size 432x288 with 1 Axes>"
      ]
     },
     "metadata": {
      "needs_background": "light"
     },
     "output_type": "display_data"
    }
   ],
   "source": [
    "# Set variables for plotting\n",
    "y_values = south_hem_clean_cities_df[\"Max Temp\"]\n",
    "x_values = south_lat\n",
    "\n",
    "# Calculate and assign variables for lingress\n",
    "(slope, intercept, rvalue, pvalue, stderr) = linregress(x_values, y_values)\n",
    "regress_values = x_values * slope + intercept\n",
    "\n",
    "# create equation string\n",
    "line_eq2 = \"y = \" + str(round(slope,2)) + \"x + \" + str(round(intercept,2))\n",
    "\n",
    "# Create scatter plot\n",
    "plt.scatter(x_values,y_values, marker=\"o\", facecolors=\"red\", edgecolors=\"black\")\n",
    "plt.plot(x_values,regress_values,\"r-\")\n",
    "\n",
    "# Plot equation string\n",
    "plt.annotate(line_eq2,(-50,30),fontsize=15,color=\"blue\")\n",
    "\n",
    "# Add labels\n",
    "plt.xlabel(\"Latitude\")\n",
    "plt.ylabel(\"Max Temp\")\n",
    "\n",
    "# Print r-squared value\n",
    "print(f\"The r-squared is: {rvalue**2}\")\n",
    "\n",
    "# Saving to png\n",
    "plt.savefig(\"Images/WeatherPy/Southern_Hemisphere_Latitude_vs_Max_Temp_Plot.png\")\n",
    "\n",
    "plt.show()"
   ]
  },
  {
   "cell_type": "markdown",
   "metadata": {},
   "source": [
    "## Enter findings here"
   ]
  },
  {
   "cell_type": "markdown",
   "metadata": {},
   "source": [
    "### Humidity (%) vs. Latitude Linear Regression"
   ]
  },
  {
   "cell_type": "markdown",
   "metadata": {},
   "source": [
    "####  Northern Hemisphere - Humidity (%) vs. Latitude Linear Regression"
   ]
  },
  {
   "cell_type": "code",
   "execution_count": 29,
   "metadata": {},
   "outputs": [
    {
     "name": "stdout",
     "output_type": "stream",
     "text": [
      "The r-squared is: 0.003735790828115853\n"
     ]
    },
    {
     "data": {
      "image/png": "[encoded data removed]",
      "text/plain": [
       "<Figure size 432x288 with 1 Axes>"
      ]
     },
     "metadata": {
      "needs_background": "light"
     },
     "output_type": "display_data"
    }
   ],
   "source": [
    "# Set variables for plotting\n",
    "y_values = north_hem_clean_cities_df[\"Humidity\"]\n",
    "x_values = north_lat\n",
    "\n",
    "# Calculate and assign variables for lingress\n",
    "(slope, intercept, rvalue, pvalue, stderr) = linregress(x_values, y_values)\n",
    "regress_values = x_values * slope + intercept\n",
    "\n",
    "# create equation string\n",
    "line_eq = \"y = \" + str(round(slope,2)) + \"x + \" + str(round(intercept,2))\n",
    "\n",
    "# Create scatter plot\n",
    "plt.scatter(x_values,y_values, marker=\"o\", facecolors=\"red\", edgecolors=\"black\")\n",
    "plt.plot(x_values,regress_values,\"r-\")\n",
    "\n",
    "# Plot equation string\n",
    "plt.annotate(line_eq,(40,15),fontsize=15,color=\"blue\")\n",
    "\n",
    "# Add labels\n",
    "plt.xlabel(\"Latitude\")\n",
    "plt.ylabel(\"Humidity \")\n",
    "\n",
    "# Print r-squared value\n",
    "print(f\"The r-squared is: {rvalue**2}\")\n",
    "\n",
    "# Saving to png\n",
    "plt.savefig(\"Images/WeatherPy/Northen_Hemisphere_Latitude_vs_Humidity_Plot.png\")\n",
    "\n",
    "plt.show()"
   ]
  },
  {
   "cell_type": "markdown",
   "metadata": {},
   "source": [
    "## Enter findings here"
   ]
  },
  {
   "cell_type": "markdown",
   "metadata": {},
   "source": [
    "####  Southern Hemisphere - Humidity (%) vs. Latitude Linear Regression"
   ]
  },
  {
   "cell_type": "code",
   "execution_count": 30,
   "metadata": {},
   "outputs": [
    {
     "name": "stdout",
     "output_type": "stream",
     "text": [
      "The r-squared is: 0.00036153587074962015\n"
     ]
    },
    {
     "data": {
      "image/png": "[encoded data removed]",
      "text/plain": [
       "<Figure size 432x288 with 1 Axes>"
      ]
     },
     "metadata": {
      "needs_background": "light"
     },
     "output_type": "display_data"
    }
   ],
   "source": [
    "# Set variables for plotting\n",
    "y_values = south_hem_clean_cities_df[\"Humidity\"]\n",
    "x_values = south_lat\n",
    "\n",
    "# Calculate and assign variables for lingress\n",
    "(slope, intercept, rvalue, pvalue, stderr) = linregress(x_values, y_values)\n",
    "regress_values = x_values * slope + intercept\n",
    "\n",
    "# create equation string\n",
    "line_eq = \"y = \" + str(round(slope,2)) + \"x + \" + str(round(intercept,2))\n",
    "\n",
    "# Create scatter plot\n",
    "plt.scatter(x_values,y_values, marker=\"o\", facecolors=\"red\", edgecolors=\"black\")\n",
    "plt.plot(x_values,regress_values,\"r-\")\n",
    "\n",
    "# Plot equation string\n",
    "plt.annotate(line_eq,(-50,20),fontsize=15,color=\"blue\")\n",
    "\n",
    "# Add labels\n",
    "plt.xlabel(\"Latitude\")\n",
    "plt.ylabel(\"Humidity\")\n",
    "\n",
    "# Print r-squared value\n",
    "print(f\"The r-squared is: {rvalue**2}\")\n",
    "\n",
    "# Saving to png\n",
    "plt.savefig(\"Images/WeatherPy/Southern_Hemisphere_Latitude_vs_Humidity_Plot.png\")\n",
    "\n",
    "plt.show()"
   ]
  },
  {
   "cell_type": "markdown",
   "metadata": {},
   "source": [
    "## Enter findings here"
   ]
  },
  {
   "cell_type": "markdown",
   "metadata": {},
   "source": [
    "### Cloudiness (%) vs. Latitude Linear Regression"
   ]
  },
  {
   "cell_type": "markdown",
   "metadata": {},
   "source": [
    "####  Northern Hemisphere - Cloudiness (%) vs. Latitude Linear Regression"
   ]
  },
  {
   "cell_type": "code",
   "execution_count": 31,
   "metadata": {},
   "outputs": [
    {
     "name": "stdout",
     "output_type": "stream",
     "text": [
      "The r-squared is: 1.2785963027334083e-05\n"
     ]
    },
    {
     "data": {
      "image/png": "[encoded data removed]",
      "text/plain": [
       "<Figure size 432x288 with 1 Axes>"
      ]
     },
     "metadata": {
      "needs_background": "light"
     },
     "output_type": "display_data"
    }
   ],
   "source": [
    "# Set variables for plotting\n",
    "y_values = north_hem_clean_cities_df[\"Cloudiness\"]\n",
    "x_values = north_lat\n",
    "\n",
    "# Calculate and assign variables for lingress\n",
    "(slope, intercept, rvalue, pvalue, stderr) = linregress(x_values, y_values)\n",
    "regress_values = x_values * slope + intercept\n",
    "\n",
    "# create equation string\n",
    "line_eq = \"y = \" + str(round(slope,2)) + \"x + \" + str(round(intercept,2))\n",
    "\n",
    "# Create scatter plot\n",
    "plt.scatter(x_values,y_values, marker=\"o\", facecolors=\"red\", edgecolors=\"black\")\n",
    "plt.plot(x_values,regress_values,\"r-\")\n",
    "\n",
    "# Plot equation string\n",
    "plt.annotate(line_eq,(40,18),fontsize=15,color=\"blue\")\n",
    "\n",
    "# Add labels\n",
    "plt.xlabel(\"Latitude\")\n",
    "plt.ylabel(\"Cloudiness\")\n",
    "\n",
    "# Print r-squared value\n",
    "print(f\"The r-squared is: {rvalue**2}\")\n",
    "\n",
    "# Saving to png\n",
    "plt.savefig(\"Images/WeatherPy/Northen_Hemisphere_Latitude_vs_Cloudiness_Plot.png\")\n",
    "\n",
    "plt.show()"
   ]
  },
  {
   "cell_type": "markdown",
   "metadata": {},
   "source": [
    "## Enter findings here"
   ]
  },
  {
   "cell_type": "markdown",
   "metadata": {},
   "source": [
    "####  Southern Hemisphere - Cloudiness (%) vs. Latitude Linear Regression"
   ]
  },
  {
   "cell_type": "code",
   "execution_count": 32,
   "metadata": {},
   "outputs": [
    {
     "name": "stdout",
     "output_type": "stream",
     "text": [
      "The r-squared is: 0.029627416080916277\n"
     ]
    },
    {
     "data": {
      "image/png": "[encoded data removed]",
      "text/plain": [
       "<Figure size 432x288 with 1 Axes>"
      ]
     },
     "metadata": {
      "needs_background": "light"
     },
     "output_type": "display_data"
    }
   ],
   "source": [
    "# Set variables for plotting\n",
    "y_values = south_hem_clean_cities_df[\"Cloudiness\"]\n",
    "x_values = south_lat\n",
    "\n",
    "# Calculate and assign variables for lingress\n",
    "(slope, intercept, rvalue, pvalue, stderr) = linregress(x_values, y_values)\n",
    "regress_values = x_values * slope + intercept\n",
    "\n",
    "# create equation string\n",
    "line_eq = \"y = \" + str(round(slope,2)) + \"x + \" + str(round(intercept,2))\n",
    "\n",
    "# Create scatter plot\n",
    "plt.scatter(x_values,y_values, marker=\"o\", facecolors=\"red\", edgecolors=\"black\")\n",
    "plt.plot(x_values,regress_values,\"r-\")\n",
    "\n",
    "# Plot equation string\n",
    "plt.annotate(line_eq,(-30,25),fontsize=15,color=\"blue\")\n",
    "\n",
    "# Add labels\n",
    "plt.xlabel(\"Latitude\")\n",
    "plt.ylabel(\"Cloudiness\")\n",
    "\n",
    "# Print r-squared value\n",
    "print(f\"The r-squared is: {rvalue**2}\")\n",
    "\n",
    "# Saving to png\n",
    "plt.savefig(\"Images/WeatherPy/Southern_Hemisphere_Latitude_vs_Cloudiness_Plot.png\")\n",
    "\n",
    "plt.show()"
   ]
  },
  {
   "cell_type": "markdown",
   "metadata": {},
   "source": [
    "## Enter findings here"
   ]
  },
  {
   "cell_type": "markdown",
   "metadata": {},
   "source": [
    "### Wind Speed (m/s) vs. Latitude Linear Regression"
   ]
  },
  {
   "cell_type": "markdown",
   "metadata": {},
   "source": [
    "####  Northern Hemisphere - Wind Speed (mph) vs. Latitude Linear Regression"
   ]
  },
  {
   "cell_type": "code",
   "execution_count": 33,
   "metadata": {},
   "outputs": [
    {
     "name": "stdout",
     "output_type": "stream",
     "text": [
      "The r-squared is: 0.00279627800720121\n"
     ]
    },
    {
     "data": {
      "image/png": "[encoded data removed]",
      "text/plain": [
       "<Figure size 432x288 with 1 Axes>"
      ]
     },
     "metadata": {
      "needs_background": "light"
     },
     "output_type": "display_data"
    }
   ],
   "source": [
    "# Set variables for plotting\n",
    "y_values = north_hem_clean_cities_df[\"Wind Speed\"]\n",
    "x_values = north_lat\n",
    "\n",
    "# Calculate and assign variables for lingress\n",
    "(slope, intercept, rvalue, pvalue, stderr) = linregress(x_values, y_values)\n",
    "regress_values = x_values * slope + intercept\n",
    "\n",
    "# create equation string\n",
    "line_eq = \"y = \" + str(round(slope,2)) + \"x + \" + str(round(intercept,2))\n",
    "\n",
    "# Create scatter plot\n",
    "plt.scatter(x_values,y_values, marker=\"o\", facecolors=\"red\", edgecolors=\"black\")\n",
    "plt.plot(x_values,regress_values,\"r-\")\n",
    "\n",
    "# Plot equation string\n",
    "plt.annotate(line_eq,(10,12),fontsize=15,color=\"blue\")\n",
    "\n",
    "# Add labels\n",
    "plt.xlabel(\"Latitude\")\n",
    "plt.ylabel(\"Wind Speed\")\n",
    "\n",
    "# Print r-squared value\n",
    "print(f\"The r-squared is: {rvalue**2}\")\n",
    "\n",
    "# Saving to png\n",
    "plt.savefig(\"Images/WeatherPy/Northen_Hemisphere_Latitude_vs_Wind_Speed_Plot.png\")\n",
    "\n",
    "plt.show()"
   ]
  },
  {
   "cell_type": "markdown",
   "metadata": {},
   "source": [
    "## Enter findings here"
   ]
  },
  {
   "cell_type": "markdown",
   "metadata": {},
   "source": [
    "####  Southern Hemisphere - Wind Speed (mph) vs. Latitude Linear Regression"
   ]
  },
  {
   "cell_type": "code",
   "execution_count": 34,
   "metadata": {},
   "outputs": [
    {
     "name": "stdout",
     "output_type": "stream",
     "text": [
      "The r-squared is: 0.012082010145912076\n"
     ]
    },
    {
     "data": {
      "image/png": "[encoded data removed]",
      "text/plain": [
       "<Figure size 432x288 with 1 Axes>"
      ]
     },
     "metadata": {
      "needs_background": "light"
     },
     "output_type": "display_data"
    }
   ],
   "source": [
    "# Set variables for plotting\n",
    "y_values = south_hem_clean_cities_df[\"Wind Speed\"]\n",
    "x_values = south_lat\n",
    "\n",
    "# Calculate and assign variables for lingress\n",
    "(slope, intercept, rvalue, pvalue, stderr) = linregress(x_values, y_values)\n",
    "regress_values = x_values * slope + intercept\n",
    "\n",
    "# create equation string\n",
    "line_eq = \"y = \" + str(round(slope,2)) + \"x + \" + str(round(intercept,2))\n",
    "\n",
    "# Create scatter plot\n",
    "plt.scatter(x_values,y_values, marker=\"o\", facecolors=\"red\", edgecolors=\"black\")\n",
    "plt.plot(x_values,regress_values,\"r-\")\n",
    "\n",
    "# Plot equation string\n",
    "plt.annotate(line_eq,(-40,10),fontsize=15,color=\"blue\")\n",
    "\n",
    "# Add labels\n",
    "plt.xlabel(\"Latitude\")\n",
    "plt.ylabel(\"Wind Speed\")\n",
    "\n",
    "# Print r-squared value\n",
    "print(f\"The r-squared is: {rvalue**2}\")\n",
    "\n",
    "# Saving to png\n",
    "plt.savefig(\"Images/WeatherPy/Southern_Hemisphere_Latitude_vs_Wind_Speed_Plot.png\")\n",
    "\n",
    "plt.show()"
   ]
  },
  {
   "cell_type": "markdown",
   "metadata": {},
   "source": [
    "## Enter findings here"
   ]
  },
  {
   "cell_type": "code",
   "execution_count": null,
   "metadata": {},
   "outputs": [],
   "source": []
  }
 ],
 "metadata": {
  "anaconda-cloud": {},
  "kernel_info": {
   "name": "python3"
  },
  "kernelspec": {
   "display_name": "Python [conda env:PythonData2] *",
   "language": "python",
   "name": "conda-env-PythonData2-py"
  },
  "language_info": {
   "codemirror_mode": {
    "name": "ipython",
    "version": 3
   },
   "file_extension": ".py",
   "mimetype": "text/x-python",
   "name": "python",
   "nbconvert_exporter": "python",
   "pygments_lexer": "ipython3",
   "version": "3.7.7"
  },
  "latex_envs": {
   "LaTeX_envs_menu_present": true,
   "autoclose": false,
   "autocomplete": true,
   "bibliofile": "biblio.bib",
   "cite_by": "apalike",
   "current_citInitial": 1,
   "eqLabelWithNumbers": true,
   "eqNumInitial": 1,
   "hotkeys": {
    "equation": "Ctrl-E",
    "itemize": "Ctrl-I"
   },
   "labels_anchors": false,
   "latex_user_defs": false,
   "report_style_numbering": false,
   "user_envs_cfg": false
  },
  "nteract": {
   "version": "0.12.3"
  },
  "vscode": {
   "interpreter": {
    "hash": "99e980432cf1793f0afa1e6d9b158221e18e1cde94fa3659a3762aef13103e01"
   }
  }
 },
 "nbformat": 4,
 "nbformat_minor": 2
}
