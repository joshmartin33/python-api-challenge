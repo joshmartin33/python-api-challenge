{
 "cells": [
  {
   "cell_type": "markdown",
   "metadata": {},
   "source": [
    "# VacationPy\n",
    "----"
   ]
  },
  {
   "cell_type": "code",
   "execution_count": 1,
   "metadata": {},
   "outputs": [],
   "source": [
    "# Dependencies and Setup\n",
    "import matplotlib.pyplot as plt\n",
    "import pandas as pd\n",
    "import numpy as np\n",
    "import requests\n",
    "import gmaps\n",
    "import os\n",
    "\n",
    "# Import API key\n",
    "from api_keys import g_key\n",
    "\n",
    "# Configure gmaps\n",
    "gmaps.configure(api_key=g_key)"
   ]
  },
  {
   "cell_type": "markdown",
   "metadata": {},
   "source": [
    "### Store Part I results into DataFrame\n",
    "* Load the csv exported in Part I to a DataFrame"
   ]
  },
  {
   "cell_type": "code",
   "execution_count": 2,
   "metadata": {},
   "outputs": [],
   "source": [
    "# Store csv path ad name\n",
    "csv = (\"output_data_file/cities.csv\")\n",
    "\n",
    "# Read in csv file\n",
    "cities_df = pd.read_csv(csv, index_col=0)"
   ]
  },
  {
   "cell_type": "markdown",
   "metadata": {},
   "source": [
    "### Humidity Heatmap\n",
    "* Configure gmaps.\n",
    "* Use the Lat and Lng as locations and Humidity as the weight.\n",
    "* Add Heatmap layer to map."
   ]
  },
  {
   "cell_type": "code",
   "execution_count": 3,
   "metadata": {},
   "outputs": [
    {
     "data": {
      "application/vnd.jupyter.widget-view+json": {
       "model_id": "96ebd4f7dd494946bfb8d0018764a90f",
       "version_major": 2,
       "version_minor": 0
      },
      "text/plain": [
       "Figure(layout=FigureLayout(border='1px solid black', height='500px', padding='3px', width='900px'))"
      ]
     },
     "metadata": {},
     "output_type": "display_data"
    }
   ],
   "source": [
    "# Store latitude and longitude in locations\n",
    "locations = cities_df[[\"Lat\", \"Lng\"]]\n",
    "\n",
    "# Set vairable and convert to float\n",
    "humidity = cities_df[\"Humidity\"].astype(float)\n",
    "\n",
    "# Set max intenstity to the maximum humidity in dataframe\n",
    "max_intense = cities_df[\"Humidity\"].max().astype(float)\n",
    "\n",
    "# Plot Heatmap\n",
    "fig = gmaps.figure(layout={\n",
    "        'width': '900px',\n",
    "        'height': '500px',\n",
    "        'padding': '3px',\n",
    "        'border': '1px solid black'\n",
    "})\n",
    "\n",
    "# Create heat layer\n",
    "heat_layer = gmaps.heatmap_layer(locations, weights=humidity, \n",
    "                                 dissipating=False, max_intensity=max_intense,\n",
    "                                 point_radius=2, opacity=0.5)\n",
    "\n",
    "\n",
    "# Add layer\n",
    "fig.add_layer(heat_layer)\n",
    "\n",
    "# Display figure\n",
    "fig"
   ]
  },
  {
   "cell_type": "markdown",
   "metadata": {},
   "source": [
    "### Create new DataFrame fitting weather criteria\n",
    "* Narrow down the cities to fit weather conditions.\n",
    "* Drop any rows will null values."
   ]
  },
  {
   "cell_type": "code",
   "execution_count": 4,
   "metadata": {},
   "outputs": [],
   "source": [
    "# set desired variables\n",
    "upper_max_temp = 30\n",
    "lower_max_temp = 25\n",
    "max_wind_speed = 4\n",
    "desired_cloudiness = 0\n",
    "\n",
    "# Crate new dataframe based on the diresed variables outlined above\n",
    "desired_cities_df = cities_df.loc[(cities_df[\"Max Temp\"] > lower_max_temp) &\n",
    "              (cities_df[\"Max Temp\"] < upper_max_temp) &\n",
    "              (cities_df[\"Wind Speed\"] < max_wind_speed) &\n",
    "              (cities_df[\"Cloudiness\"] == desired_cloudiness)\n",
    "             ]\n",
    "\n",
    "# Create new dataframe that holds maximum 10 rows\n",
    "hotel_df = desired_cities_df.iloc[0:10,:].copy()"
   ]
  },
  {
   "cell_type": "markdown",
   "metadata": {},
   "source": [
    "### Hotel Map\n",
    "* Store into variable named `hotel_df`.\n",
    "* Add a \"Hotel Name\" column to the DataFrame.\n",
    "* Set parameters to search for hotels with 5000 meters.\n",
    "* Hit the Google Places API for each city's coordinates.\n",
    "* Store the first Hotel result into the DataFrame.\n",
    "* Plot markers on top of the heatmap."
   ]
  },
  {
   "cell_type": "code",
   "execution_count": 5,
   "metadata": {},
   "outputs": [
    {
     "name": "stdout",
     "output_type": "stream",
     "text": [
      "Hotel not found. Skipping....\n"
     ]
    }
   ],
   "source": [
    "# Add a \"Hotel Name\" column to the DataFrame\n",
    "hotel_df[\"Hotel Name\"] = \"\"\n",
    "\n",
    "# add search criteria\n",
    "target_search = \"Hotel\"\n",
    "target_radius = 5000\n",
    "target_type = \"lodging\"\n",
    "\n",
    "# set up a parameters dictionary\n",
    "params = {\n",
    "    \"keyword\": target_search,\n",
    "    \"radius\": target_radius,\n",
    "    \"type\": target_type,\n",
    "    \"key\": g_key\n",
    "}\n",
    "# Iterate through the lat and lng\n",
    "for index, row in hotel_df.iterrows():\n",
    "    \n",
    "    # get lat,lng from dataframe\n",
    "    lat_lng = str(f'{row[\"Lat\"]},{row[\"Lng\"]}')\n",
    "\n",
    "    # change location each iteration while leaving original params in place\n",
    "    params[\"location\"] = f\"{lat_lng}\"\n",
    "\n",
    "    # Use the units term to return metric data for each lat, lng\n",
    "    base_url = \"https://maps.googleapis.com/maps/api/place/nearbysearch/json\"\n",
    "\n",
    "    # make request and convert to json\n",
    "    response = requests.get(base_url, params=params).json()\n",
    "    \n",
    " # Since some data may be missing we incorporate a try-except to skip any that are missing a data point.\n",
    "    try:\n",
    "        \n",
    "        # Adding collected data to hotel dataframe\n",
    "        hotel_df.loc[index, \"Hotel Name\"] = response['results'][0]['name']\n",
    "                  \n",
    "        # Add except \n",
    "    except (KeyError, IndexError):\n",
    "        print(\"Hotel not found. Skipping....\")\n",
    "                  \n",
    "        # Remove row if no data found\n",
    "        hotel_df.drop(index, inplace=True)\n"
   ]
  },
  {
   "cell_type": "code",
   "execution_count": 6,
   "metadata": {},
   "outputs": [],
   "source": [
    "# NOTE: Do not change any of the code in this cell\n",
    "\n",
    "# Using the template add the hotel marks to the heatmap\n",
    "info_box_template = \"\"\"\n",
    "<dl>\n",
    "<dt>Name</dt><dd>{Hotel Name}</dd>\n",
    "<dt>City</dt><dd>{City}</dd>\n",
    "<dt>Country</dt><dd>{Country}</dd>\n",
    "</dl>\n",
    "\"\"\"\n",
    "# Store the DataFrame Row\n",
    "# NOTE: be sure to update with your DataFrame name\n",
    "hotel_info = [info_box_template.format(**row) for index, row in hotel_df.iterrows()]\n",
    "locations = hotel_df[[\"Lat\", \"Lng\"]]"
   ]
  },
  {
   "cell_type": "code",
   "execution_count": 7,
   "metadata": {},
   "outputs": [
    {
     "data": {
      "application/vnd.jupyter.widget-view+json": {
       "model_id": "96ebd4f7dd494946bfb8d0018764a90f",
       "version_major": 2,
       "version_minor": 0
      },
      "text/plain": [
       "Figure(layout=FigureLayout(border='1px solid black', height='500px', padding='3px', width='900px'))"
      ]
     },
     "metadata": {},
     "output_type": "display_data"
    }
   ],
   "source": [
    "# Assign the marker layer to a variable\n",
    "markers = gmaps.marker_layer(locations,display_info_box = True, info_box_content=hotel_info)\n",
    "\n",
    "# Add marker layer ontop of heat map\n",
    "fig.add_layer(heat_layer)\n",
    "fig.add_layer(markers)\n",
    "\n",
    "# Display figure\n",
    "fig"
   ]
  },
  {
   "cell_type": "code",
   "execution_count": null,
   "metadata": {},
   "outputs": [],
   "source": []
  }
 ],
 "metadata": {
  "kernelspec": {
   "display_name": "Python [conda env:PythonData2] *",
   "language": "python",
   "name": "conda-env-PythonData2-py"
  },
  "language_info": {
   "codemirror_mode": {
    "name": "ipython",
    "version": 3
   },
   "file_extension": ".py",
   "mimetype": "text/x-python",
   "name": "python",
   "nbconvert_exporter": "python",
   "pygments_lexer": "ipython3",
   "version": "3.7.7"
  },
  "latex_envs": {
   "LaTeX_envs_menu_present": true,
   "autoclose": false,
   "autocomplete": true,
   "bibliofile": "biblio.bib",
   "cite_by": "apalike",
   "current_citInitial": 1,
   "eqLabelWithNumbers": true,
   "eqNumInitial": 1,
   "hotkeys": {
    "equation": "Ctrl-E",
    "itemize": "Ctrl-I"
   },
   "labels_anchors": false,
   "latex_user_defs": false,
   "report_style_numbering": false,
   "user_envs_cfg": false
  }
 },
 "nbformat": 4,
 "nbformat_minor": 4
}
